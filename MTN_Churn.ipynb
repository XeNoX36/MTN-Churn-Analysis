{
 "cells": [
  {
   "cell_type": "code",
   "execution_count": 1,
   "id": "f23872dd",
   "metadata": {},
   "outputs": [],
   "source": [
    "import pandas as pd\n",
    "import seaborn as sns\n",
    "import matplotlib.pyplot as plt"
   ]
  },
  {
   "cell_type": "code",
   "execution_count": null,
   "id": "815895b9",
   "metadata": {},
   "outputs": [
    {
     "data": {
      "text/html": [
       "<div>\n",
       "<style scoped>\n",
       "    .dataframe tbody tr th:only-of-type {\n",
       "        vertical-align: middle;\n",
       "    }\n",
       "\n",
       "    .dataframe tbody tr th {\n",
       "        vertical-align: top;\n",
       "    }\n",
       "\n",
       "    .dataframe thead th {\n",
       "        text-align: right;\n",
       "    }\n",
       "</style>\n",
       "<table border=\"1\" class=\"dataframe\">\n",
       "  <thead>\n",
       "    <tr style=\"text-align: right;\">\n",
       "      <th></th>\n",
       "      <th>Customer ID</th>\n",
       "      <th>Full Name</th>\n",
       "      <th>Date of Purchase</th>\n",
       "      <th>Age</th>\n",
       "      <th>State</th>\n",
       "      <th>MTN Device</th>\n",
       "      <th>Gender</th>\n",
       "      <th>Satisfaction Rate</th>\n",
       "      <th>Customer Review</th>\n",
       "      <th>Customer Tenure in months</th>\n",
       "      <th>Subscription Plan</th>\n",
       "      <th>Unit Price</th>\n",
       "      <th>Number of Times Purchased</th>\n",
       "      <th>Total Revenue</th>\n",
       "      <th>Data Usage</th>\n",
       "      <th>Customer Churn Status</th>\n",
       "      <th>Reasons for Churn</th>\n",
       "    </tr>\n",
       "  </thead>\n",
       "  <tbody>\n",
       "    <tr>\n",
       "      <th>0</th>\n",
       "      <td>CUST0001</td>\n",
       "      <td>Ngozi Berry</td>\n",
       "      <td>2025-01-25</td>\n",
       "      <td>27</td>\n",
       "      <td>Kwara</td>\n",
       "      <td>4G Router</td>\n",
       "      <td>Male</td>\n",
       "      <td>2</td>\n",
       "      <td>Fair</td>\n",
       "      <td>2</td>\n",
       "      <td>165GB Monthly Plan</td>\n",
       "      <td>35000</td>\n",
       "      <td>19</td>\n",
       "      <td>665000</td>\n",
       "      <td>44.48</td>\n",
       "      <td>Yes</td>\n",
       "      <td>Relocation</td>\n",
       "    </tr>\n",
       "    <tr>\n",
       "      <th>1</th>\n",
       "      <td>CUST0002</td>\n",
       "      <td>Zainab Baker</td>\n",
       "      <td>2025-03-25</td>\n",
       "      <td>16</td>\n",
       "      <td>Abuja (FCT)</td>\n",
       "      <td>Mobile SIM Card</td>\n",
       "      <td>Female</td>\n",
       "      <td>2</td>\n",
       "      <td>Fair</td>\n",
       "      <td>22</td>\n",
       "      <td>12.5GB Monthly Plan</td>\n",
       "      <td>5500</td>\n",
       "      <td>12</td>\n",
       "      <td>66000</td>\n",
       "      <td>19.79</td>\n",
       "      <td>Yes</td>\n",
       "      <td>Better Offers from Competitors</td>\n",
       "    </tr>\n",
       "    <tr>\n",
       "      <th>2</th>\n",
       "      <td>CUST0003</td>\n",
       "      <td>Saidu Evans</td>\n",
       "      <td>2025-03-25</td>\n",
       "      <td>21</td>\n",
       "      <td>Sokoto</td>\n",
       "      <td>5G Broadband Router</td>\n",
       "      <td>Male</td>\n",
       "      <td>1</td>\n",
       "      <td>Poor</td>\n",
       "      <td>60</td>\n",
       "      <td>150GB FUP Monthly Unlimited</td>\n",
       "      <td>20000</td>\n",
       "      <td>8</td>\n",
       "      <td>160000</td>\n",
       "      <td>9.64</td>\n",
       "      <td>No</td>\n",
       "      <td>NaN</td>\n",
       "    </tr>\n",
       "    <tr>\n",
       "      <th>3</th>\n",
       "      <td>CUST0003</td>\n",
       "      <td>Saidu Evans</td>\n",
       "      <td>2025-03-25</td>\n",
       "      <td>21</td>\n",
       "      <td>Sokoto</td>\n",
       "      <td>Mobile SIM Card</td>\n",
       "      <td>Male</td>\n",
       "      <td>1</td>\n",
       "      <td>Poor</td>\n",
       "      <td>60</td>\n",
       "      <td>1GB+1.5mins Daily Plan</td>\n",
       "      <td>500</td>\n",
       "      <td>8</td>\n",
       "      <td>4000</td>\n",
       "      <td>197.05</td>\n",
       "      <td>No</td>\n",
       "      <td>NaN</td>\n",
       "    </tr>\n",
       "    <tr>\n",
       "      <th>4</th>\n",
       "      <td>CUST0003</td>\n",
       "      <td>Saidu Evans</td>\n",
       "      <td>2025-03-25</td>\n",
       "      <td>21</td>\n",
       "      <td>Sokoto</td>\n",
       "      <td>Broadband MiFi</td>\n",
       "      <td>Male</td>\n",
       "      <td>1</td>\n",
       "      <td>Poor</td>\n",
       "      <td>60</td>\n",
       "      <td>30GB Monthly Broadband Plan</td>\n",
       "      <td>9000</td>\n",
       "      <td>15</td>\n",
       "      <td>135000</td>\n",
       "      <td>76.34</td>\n",
       "      <td>No</td>\n",
       "      <td>NaN</td>\n",
       "    </tr>\n",
       "    <tr>\n",
       "      <th>...</th>\n",
       "      <td>...</td>\n",
       "      <td>...</td>\n",
       "      <td>...</td>\n",
       "      <td>...</td>\n",
       "      <td>...</td>\n",
       "      <td>...</td>\n",
       "      <td>...</td>\n",
       "      <td>...</td>\n",
       "      <td>...</td>\n",
       "      <td>...</td>\n",
       "      <td>...</td>\n",
       "      <td>...</td>\n",
       "      <td>...</td>\n",
       "      <td>...</td>\n",
       "      <td>...</td>\n",
       "      <td>...</td>\n",
       "      <td>...</td>\n",
       "    </tr>\n",
       "    <tr>\n",
       "      <th>969</th>\n",
       "      <td>CUST0498</td>\n",
       "      <td>Shehu Harris</td>\n",
       "      <td>2025-01-25</td>\n",
       "      <td>72</td>\n",
       "      <td>Osun</td>\n",
       "      <td>4G Router</td>\n",
       "      <td>Female</td>\n",
       "      <td>3</td>\n",
       "      <td>Good</td>\n",
       "      <td>42</td>\n",
       "      <td>25GB Monthly Plan</td>\n",
       "      <td>9000</td>\n",
       "      <td>7</td>\n",
       "      <td>63000</td>\n",
       "      <td>8.14</td>\n",
       "      <td>No</td>\n",
       "      <td>NaN</td>\n",
       "    </tr>\n",
       "    <tr>\n",
       "      <th>970</th>\n",
       "      <td>CUST0499</td>\n",
       "      <td>Tega Hood</td>\n",
       "      <td>2025-03-25</td>\n",
       "      <td>41</td>\n",
       "      <td>Bayelsa</td>\n",
       "      <td>5G Broadband Router</td>\n",
       "      <td>Female</td>\n",
       "      <td>2</td>\n",
       "      <td>Fair</td>\n",
       "      <td>20</td>\n",
       "      <td>30GB Monthly Broadband Plan</td>\n",
       "      <td>9000</td>\n",
       "      <td>10</td>\n",
       "      <td>90000</td>\n",
       "      <td>154.13</td>\n",
       "      <td>No</td>\n",
       "      <td>NaN</td>\n",
       "    </tr>\n",
       "    <tr>\n",
       "      <th>971</th>\n",
       "      <td>CUST0500</td>\n",
       "      <td>Oghene Hamilton</td>\n",
       "      <td>2025-02-25</td>\n",
       "      <td>67</td>\n",
       "      <td>Kebbi</td>\n",
       "      <td>4G Router</td>\n",
       "      <td>Male</td>\n",
       "      <td>4</td>\n",
       "      <td>Very Good</td>\n",
       "      <td>31</td>\n",
       "      <td>165GB Monthly Plan</td>\n",
       "      <td>35000</td>\n",
       "      <td>15</td>\n",
       "      <td>525000</td>\n",
       "      <td>144.64</td>\n",
       "      <td>Yes</td>\n",
       "      <td>High Call Tarriffs</td>\n",
       "    </tr>\n",
       "    <tr>\n",
       "      <th>972</th>\n",
       "      <td>CUST0500</td>\n",
       "      <td>Oghene Hamilton</td>\n",
       "      <td>2025-02-25</td>\n",
       "      <td>67</td>\n",
       "      <td>Kebbi</td>\n",
       "      <td>Mobile SIM Card</td>\n",
       "      <td>Male</td>\n",
       "      <td>4</td>\n",
       "      <td>Very Good</td>\n",
       "      <td>31</td>\n",
       "      <td>7GB Monthly Plan</td>\n",
       "      <td>3500</td>\n",
       "      <td>11</td>\n",
       "      <td>38500</td>\n",
       "      <td>158.49</td>\n",
       "      <td>Yes</td>\n",
       "      <td>High Call Tarriffs</td>\n",
       "    </tr>\n",
       "    <tr>\n",
       "      <th>973</th>\n",
       "      <td>CUST0500</td>\n",
       "      <td>Oghene Hamilton</td>\n",
       "      <td>2025-02-25</td>\n",
       "      <td>67</td>\n",
       "      <td>Kebbi</td>\n",
       "      <td>Broadband MiFi</td>\n",
       "      <td>Male</td>\n",
       "      <td>4</td>\n",
       "      <td>Very Good</td>\n",
       "      <td>31</td>\n",
       "      <td>150GB FUP Monthly Unlimited</td>\n",
       "      <td>20000</td>\n",
       "      <td>14</td>\n",
       "      <td>280000</td>\n",
       "      <td>86.04</td>\n",
       "      <td>Yes</td>\n",
       "      <td>High Call Tarriffs</td>\n",
       "    </tr>\n",
       "  </tbody>\n",
       "</table>\n",
       "<p>974 rows × 17 columns</p>\n",
       "</div>"
      ],
      "text/plain": [
       "    Customer ID        Full Name Date of Purchase  Age        State  \\\n",
       "0      CUST0001      Ngozi Berry       2025-01-25   27        Kwara   \n",
       "1      CUST0002     Zainab Baker       2025-03-25   16  Abuja (FCT)   \n",
       "2      CUST0003      Saidu Evans       2025-03-25   21       Sokoto   \n",
       "3      CUST0003      Saidu Evans       2025-03-25   21       Sokoto   \n",
       "4      CUST0003      Saidu Evans       2025-03-25   21       Sokoto   \n",
       "..          ...              ...              ...  ...          ...   \n",
       "969    CUST0498     Shehu Harris       2025-01-25   72         Osun   \n",
       "970    CUST0499        Tega Hood       2025-03-25   41      Bayelsa   \n",
       "971    CUST0500  Oghene Hamilton       2025-02-25   67        Kebbi   \n",
       "972    CUST0500  Oghene Hamilton       2025-02-25   67        Kebbi   \n",
       "973    CUST0500  Oghene Hamilton       2025-02-25   67        Kebbi   \n",
       "\n",
       "              MTN Device  Gender  Satisfaction Rate Customer Review  \\\n",
       "0              4G Router    Male                  2            Fair   \n",
       "1        Mobile SIM Card  Female                  2            Fair   \n",
       "2    5G Broadband Router    Male                  1            Poor   \n",
       "3        Mobile SIM Card    Male                  1            Poor   \n",
       "4         Broadband MiFi    Male                  1            Poor   \n",
       "..                   ...     ...                ...             ...   \n",
       "969            4G Router  Female                  3            Good   \n",
       "970  5G Broadband Router  Female                  2            Fair   \n",
       "971            4G Router    Male                  4       Very Good   \n",
       "972      Mobile SIM Card    Male                  4       Very Good   \n",
       "973       Broadband MiFi    Male                  4       Very Good   \n",
       "\n",
       "     Customer Tenure in months            Subscription Plan  Unit Price  \\\n",
       "0                            2           165GB Monthly Plan       35000   \n",
       "1                           22          12.5GB Monthly Plan        5500   \n",
       "2                           60  150GB FUP Monthly Unlimited       20000   \n",
       "3                           60       1GB+1.5mins Daily Plan         500   \n",
       "4                           60  30GB Monthly Broadband Plan        9000   \n",
       "..                         ...                          ...         ...   \n",
       "969                         42            25GB Monthly Plan        9000   \n",
       "970                         20  30GB Monthly Broadband Plan        9000   \n",
       "971                         31           165GB Monthly Plan       35000   \n",
       "972                         31             7GB Monthly Plan        3500   \n",
       "973                         31  150GB FUP Monthly Unlimited       20000   \n",
       "\n",
       "     Number of Times Purchased  Total Revenue  Data Usage  \\\n",
       "0                           19         665000       44.48   \n",
       "1                           12          66000       19.79   \n",
       "2                            8         160000        9.64   \n",
       "3                            8           4000      197.05   \n",
       "4                           15         135000       76.34   \n",
       "..                         ...            ...         ...   \n",
       "969                          7          63000        8.14   \n",
       "970                         10          90000      154.13   \n",
       "971                         15         525000      144.64   \n",
       "972                         11          38500      158.49   \n",
       "973                         14         280000       86.04   \n",
       "\n",
       "    Customer Churn Status               Reasons for Churn  \n",
       "0                     Yes                      Relocation  \n",
       "1                     Yes  Better Offers from Competitors  \n",
       "2                      No                             NaN  \n",
       "3                      No                             NaN  \n",
       "4                      No                             NaN  \n",
       "..                    ...                             ...  \n",
       "969                    No                             NaN  \n",
       "970                    No                             NaN  \n",
       "971                   Yes              High Call Tarriffs  \n",
       "972                   Yes              High Call Tarriffs  \n",
       "973                   Yes              High Call Tarriffs  \n",
       "\n",
       "[974 rows x 17 columns]"
      ]
     },
     "execution_count": 2,
     "metadata": {},
     "output_type": "execute_result"
    }
   ],
   "source": [
    "data=pd.read_excel(r\"c:\\Users\\USER\\Documents\\Projects\\MTN\\mtn_customer_churn.xlsx\")\n",
    "data"
   ]
  },
  {
   "cell_type": "markdown",
   "id": "139315fb",
   "metadata": {},
   "source": [
    "**Checking for any null Values**"
   ]
  },
  {
   "cell_type": "code",
   "execution_count": 3,
   "id": "1cfc2b88",
   "metadata": {},
   "outputs": [
    {
     "data": {
      "text/plain": [
       "Customer ID                    0\n",
       "Full Name                      0\n",
       "Date of Purchase               0\n",
       "Age                            0\n",
       "State                          0\n",
       "MTN Device                     0\n",
       "Gender                         0\n",
       "Satisfaction Rate              0\n",
       "Customer Review                0\n",
       "Customer Tenure in months      0\n",
       "Subscription Plan              0\n",
       "Unit Price                     0\n",
       "Number of Times Purchased      0\n",
       "Total Revenue                  0\n",
       "Data Usage                     0\n",
       "Customer Churn Status          0\n",
       "Reasons for Churn            690\n",
       "dtype: int64"
      ]
     },
     "execution_count": 3,
     "metadata": {},
     "output_type": "execute_result"
    }
   ],
   "source": [
    "data.isnull().sum()"
   ]
  },
  {
   "cell_type": "markdown",
   "id": "ee63f892",
   "metadata": {},
   "source": [
    "**Checking for any Duplicates**"
   ]
  },
  {
   "cell_type": "code",
   "execution_count": 4,
   "id": "ed77528b",
   "metadata": {},
   "outputs": [
    {
     "data": {
      "text/html": [
       "<div>\n",
       "<style scoped>\n",
       "    .dataframe tbody tr th:only-of-type {\n",
       "        vertical-align: middle;\n",
       "    }\n",
       "\n",
       "    .dataframe tbody tr th {\n",
       "        vertical-align: top;\n",
       "    }\n",
       "\n",
       "    .dataframe thead th {\n",
       "        text-align: right;\n",
       "    }\n",
       "</style>\n",
       "<table border=\"1\" class=\"dataframe\">\n",
       "  <thead>\n",
       "    <tr style=\"text-align: right;\">\n",
       "      <th></th>\n",
       "      <th>Customer ID</th>\n",
       "      <th>Full Name</th>\n",
       "      <th>Date of Purchase</th>\n",
       "      <th>Age</th>\n",
       "      <th>State</th>\n",
       "      <th>MTN Device</th>\n",
       "      <th>Gender</th>\n",
       "      <th>Satisfaction Rate</th>\n",
       "      <th>Customer Review</th>\n",
       "      <th>Customer Tenure in months</th>\n",
       "      <th>Subscription Plan</th>\n",
       "      <th>Unit Price</th>\n",
       "      <th>Number of Times Purchased</th>\n",
       "      <th>Total Revenue</th>\n",
       "      <th>Data Usage</th>\n",
       "      <th>Customer Churn Status</th>\n",
       "      <th>Reasons for Churn</th>\n",
       "    </tr>\n",
       "  </thead>\n",
       "  <tbody>\n",
       "  </tbody>\n",
       "</table>\n",
       "</div>"
      ],
      "text/plain": [
       "Empty DataFrame\n",
       "Columns: [Customer ID, Full Name, Date of Purchase, Age, State, MTN Device, Gender, Satisfaction Rate, Customer Review, Customer Tenure in months, Subscription Plan, Unit Price, Number of Times Purchased, Total Revenue, Data Usage, Customer Churn Status, Reasons for Churn]\n",
       "Index: []"
      ]
     },
     "execution_count": 4,
     "metadata": {},
     "output_type": "execute_result"
    }
   ],
   "source": [
    "data[data.duplicated()]"
   ]
  },
  {
   "cell_type": "code",
   "execution_count": 5,
   "id": "5da6487a",
   "metadata": {},
   "outputs": [
    {
     "data": {
      "text/html": [
       "<div>\n",
       "<style scoped>\n",
       "    .dataframe tbody tr th:only-of-type {\n",
       "        vertical-align: middle;\n",
       "    }\n",
       "\n",
       "    .dataframe tbody tr th {\n",
       "        vertical-align: top;\n",
       "    }\n",
       "\n",
       "    .dataframe thead th {\n",
       "        text-align: right;\n",
       "    }\n",
       "</style>\n",
       "<table border=\"1\" class=\"dataframe\">\n",
       "  <thead>\n",
       "    <tr style=\"text-align: right;\">\n",
       "      <th></th>\n",
       "      <th>Date of Purchase</th>\n",
       "      <th>Age</th>\n",
       "      <th>Satisfaction Rate</th>\n",
       "      <th>Customer Tenure in months</th>\n",
       "      <th>Unit Price</th>\n",
       "      <th>Number of Times Purchased</th>\n",
       "      <th>Total Revenue</th>\n",
       "      <th>Data Usage</th>\n",
       "    </tr>\n",
       "  </thead>\n",
       "  <tbody>\n",
       "    <tr>\n",
       "      <th>count</th>\n",
       "      <td>974</td>\n",
       "      <td>974.000000</td>\n",
       "      <td>974.000000</td>\n",
       "      <td>974.000000</td>\n",
       "      <td>974.000000</td>\n",
       "      <td>974.000000</td>\n",
       "      <td>9.740000e+02</td>\n",
       "      <td>974.000000</td>\n",
       "    </tr>\n",
       "    <tr>\n",
       "      <th>mean</th>\n",
       "      <td>2025-02-23 15:32:53.716632576</td>\n",
       "      <td>48.043121</td>\n",
       "      <td>2.947639</td>\n",
       "      <td>31.422998</td>\n",
       "      <td>19196.663244</td>\n",
       "      <td>10.564682</td>\n",
       "      <td>2.046696e+05</td>\n",
       "      <td>99.304764</td>\n",
       "    </tr>\n",
       "    <tr>\n",
       "      <th>min</th>\n",
       "      <td>2025-01-25 00:00:00</td>\n",
       "      <td>16.000000</td>\n",
       "      <td>1.000000</td>\n",
       "      <td>1.000000</td>\n",
       "      <td>350.000000</td>\n",
       "      <td>1.000000</td>\n",
       "      <td>3.500000e+02</td>\n",
       "      <td>0.820000</td>\n",
       "    </tr>\n",
       "    <tr>\n",
       "      <th>25%</th>\n",
       "      <td>2025-01-25 00:00:00</td>\n",
       "      <td>32.000000</td>\n",
       "      <td>2.000000</td>\n",
       "      <td>17.000000</td>\n",
       "      <td>5500.000000</td>\n",
       "      <td>5.000000</td>\n",
       "      <td>3.300000e+04</td>\n",
       "      <td>47.637500</td>\n",
       "    </tr>\n",
       "    <tr>\n",
       "      <th>50%</th>\n",
       "      <td>2025-02-25 00:00:00</td>\n",
       "      <td>49.000000</td>\n",
       "      <td>3.000000</td>\n",
       "      <td>31.000000</td>\n",
       "      <td>14500.000000</td>\n",
       "      <td>11.000000</td>\n",
       "      <td>1.080000e+05</td>\n",
       "      <td>103.330000</td>\n",
       "    </tr>\n",
       "    <tr>\n",
       "      <th>75%</th>\n",
       "      <td>2025-03-25 00:00:00</td>\n",
       "      <td>63.750000</td>\n",
       "      <td>4.000000</td>\n",
       "      <td>47.000000</td>\n",
       "      <td>24000.000000</td>\n",
       "      <td>15.000000</td>\n",
       "      <td>2.610000e+05</td>\n",
       "      <td>149.697500</td>\n",
       "    </tr>\n",
       "    <tr>\n",
       "      <th>max</th>\n",
       "      <td>2025-03-25 00:00:00</td>\n",
       "      <td>80.000000</td>\n",
       "      <td>5.000000</td>\n",
       "      <td>60.000000</td>\n",
       "      <td>150000.000000</td>\n",
       "      <td>20.000000</td>\n",
       "      <td>3.000000e+06</td>\n",
       "      <td>200.000000</td>\n",
       "    </tr>\n",
       "    <tr>\n",
       "      <th>std</th>\n",
       "      <td>NaN</td>\n",
       "      <td>17.764307</td>\n",
       "      <td>1.384219</td>\n",
       "      <td>17.191256</td>\n",
       "      <td>25586.726985</td>\n",
       "      <td>5.709427</td>\n",
       "      <td>3.247855e+05</td>\n",
       "      <td>57.739511</td>\n",
       "    </tr>\n",
       "  </tbody>\n",
       "</table>\n",
       "</div>"
      ],
      "text/plain": [
       "                    Date of Purchase         Age  Satisfaction Rate  \\\n",
       "count                            974  974.000000         974.000000   \n",
       "mean   2025-02-23 15:32:53.716632576   48.043121           2.947639   \n",
       "min              2025-01-25 00:00:00   16.000000           1.000000   \n",
       "25%              2025-01-25 00:00:00   32.000000           2.000000   \n",
       "50%              2025-02-25 00:00:00   49.000000           3.000000   \n",
       "75%              2025-03-25 00:00:00   63.750000           4.000000   \n",
       "max              2025-03-25 00:00:00   80.000000           5.000000   \n",
       "std                              NaN   17.764307           1.384219   \n",
       "\n",
       "       Customer Tenure in months     Unit Price  Number of Times Purchased  \\\n",
       "count                 974.000000     974.000000                 974.000000   \n",
       "mean                   31.422998   19196.663244                  10.564682   \n",
       "min                     1.000000     350.000000                   1.000000   \n",
       "25%                    17.000000    5500.000000                   5.000000   \n",
       "50%                    31.000000   14500.000000                  11.000000   \n",
       "75%                    47.000000   24000.000000                  15.000000   \n",
       "max                    60.000000  150000.000000                  20.000000   \n",
       "std                    17.191256   25586.726985                   5.709427   \n",
       "\n",
       "       Total Revenue  Data Usage  \n",
       "count   9.740000e+02  974.000000  \n",
       "mean    2.046696e+05   99.304764  \n",
       "min     3.500000e+02    0.820000  \n",
       "25%     3.300000e+04   47.637500  \n",
       "50%     1.080000e+05  103.330000  \n",
       "75%     2.610000e+05  149.697500  \n",
       "max     3.000000e+06  200.000000  \n",
       "std     3.247855e+05   57.739511  "
      ]
     },
     "execution_count": 5,
     "metadata": {},
     "output_type": "execute_result"
    }
   ],
   "source": [
    "data.describe()"
   ]
  },
  {
   "cell_type": "code",
   "execution_count": 6,
   "id": "c93f1a9a",
   "metadata": {},
   "outputs": [
    {
     "data": {
      "text/html": [
       "<div>\n",
       "<style scoped>\n",
       "    .dataframe tbody tr th:only-of-type {\n",
       "        vertical-align: middle;\n",
       "    }\n",
       "\n",
       "    .dataframe tbody tr th {\n",
       "        vertical-align: top;\n",
       "    }\n",
       "\n",
       "    .dataframe thead th {\n",
       "        text-align: right;\n",
       "    }\n",
       "</style>\n",
       "<table border=\"1\" class=\"dataframe\">\n",
       "  <thead>\n",
       "    <tr style=\"text-align: right;\">\n",
       "      <th></th>\n",
       "      <th>Customer ID</th>\n",
       "      <th>Full Name</th>\n",
       "      <th>Date of Purchase</th>\n",
       "      <th>Age</th>\n",
       "      <th>State</th>\n",
       "      <th>MTN Device</th>\n",
       "      <th>Gender</th>\n",
       "      <th>Satisfaction Rate</th>\n",
       "      <th>Customer Review</th>\n",
       "      <th>Customer Tenure in months</th>\n",
       "      <th>Subscription Plan</th>\n",
       "      <th>Unit Price</th>\n",
       "      <th>Number of Times Purchased</th>\n",
       "      <th>Total Revenue</th>\n",
       "      <th>Data Usage</th>\n",
       "      <th>Customer Churn Status</th>\n",
       "      <th>Reasons for Churn</th>\n",
       "    </tr>\n",
       "  </thead>\n",
       "  <tbody>\n",
       "    <tr>\n",
       "      <th>0</th>\n",
       "      <td>CUST0001</td>\n",
       "      <td>Ngozi Berry</td>\n",
       "      <td>2025-01-25</td>\n",
       "      <td>27</td>\n",
       "      <td>Kwara</td>\n",
       "      <td>4G Router</td>\n",
       "      <td>Male</td>\n",
       "      <td>2</td>\n",
       "      <td>Fair</td>\n",
       "      <td>2</td>\n",
       "      <td>165GB Monthly Plan</td>\n",
       "      <td>35000</td>\n",
       "      <td>19</td>\n",
       "      <td>665000</td>\n",
       "      <td>44.48</td>\n",
       "      <td>Yes</td>\n",
       "      <td>Relocation</td>\n",
       "    </tr>\n",
       "    <tr>\n",
       "      <th>1</th>\n",
       "      <td>CUST0002</td>\n",
       "      <td>Zainab Baker</td>\n",
       "      <td>2025-03-25</td>\n",
       "      <td>16</td>\n",
       "      <td>Abuja (FCT)</td>\n",
       "      <td>Mobile SIM Card</td>\n",
       "      <td>Female</td>\n",
       "      <td>2</td>\n",
       "      <td>Fair</td>\n",
       "      <td>22</td>\n",
       "      <td>12.5GB Monthly Plan</td>\n",
       "      <td>5500</td>\n",
       "      <td>12</td>\n",
       "      <td>66000</td>\n",
       "      <td>19.79</td>\n",
       "      <td>Yes</td>\n",
       "      <td>Better Offers from Competitors</td>\n",
       "    </tr>\n",
       "    <tr>\n",
       "      <th>2</th>\n",
       "      <td>CUST0003</td>\n",
       "      <td>Saidu Evans</td>\n",
       "      <td>2025-03-25</td>\n",
       "      <td>21</td>\n",
       "      <td>Sokoto</td>\n",
       "      <td>5G Broadband Router</td>\n",
       "      <td>Male</td>\n",
       "      <td>1</td>\n",
       "      <td>Poor</td>\n",
       "      <td>60</td>\n",
       "      <td>150GB FUP Monthly Unlimited</td>\n",
       "      <td>20000</td>\n",
       "      <td>8</td>\n",
       "      <td>160000</td>\n",
       "      <td>9.64</td>\n",
       "      <td>No</td>\n",
       "      <td>NaN</td>\n",
       "    </tr>\n",
       "    <tr>\n",
       "      <th>3</th>\n",
       "      <td>CUST0003</td>\n",
       "      <td>Saidu Evans</td>\n",
       "      <td>2025-03-25</td>\n",
       "      <td>21</td>\n",
       "      <td>Sokoto</td>\n",
       "      <td>Mobile SIM Card</td>\n",
       "      <td>Male</td>\n",
       "      <td>1</td>\n",
       "      <td>Poor</td>\n",
       "      <td>60</td>\n",
       "      <td>1GB+1.5mins Daily Plan</td>\n",
       "      <td>500</td>\n",
       "      <td>8</td>\n",
       "      <td>4000</td>\n",
       "      <td>197.05</td>\n",
       "      <td>No</td>\n",
       "      <td>NaN</td>\n",
       "    </tr>\n",
       "    <tr>\n",
       "      <th>4</th>\n",
       "      <td>CUST0003</td>\n",
       "      <td>Saidu Evans</td>\n",
       "      <td>2025-03-25</td>\n",
       "      <td>21</td>\n",
       "      <td>Sokoto</td>\n",
       "      <td>Broadband MiFi</td>\n",
       "      <td>Male</td>\n",
       "      <td>1</td>\n",
       "      <td>Poor</td>\n",
       "      <td>60</td>\n",
       "      <td>30GB Monthly Broadband Plan</td>\n",
       "      <td>9000</td>\n",
       "      <td>15</td>\n",
       "      <td>135000</td>\n",
       "      <td>76.34</td>\n",
       "      <td>No</td>\n",
       "      <td>NaN</td>\n",
       "    </tr>\n",
       "  </tbody>\n",
       "</table>\n",
       "</div>"
      ],
      "text/plain": [
       "  Customer ID     Full Name Date of Purchase  Age        State  \\\n",
       "0    CUST0001   Ngozi Berry       2025-01-25   27        Kwara   \n",
       "1    CUST0002  Zainab Baker       2025-03-25   16  Abuja (FCT)   \n",
       "2    CUST0003   Saidu Evans       2025-03-25   21       Sokoto   \n",
       "3    CUST0003   Saidu Evans       2025-03-25   21       Sokoto   \n",
       "4    CUST0003   Saidu Evans       2025-03-25   21       Sokoto   \n",
       "\n",
       "            MTN Device  Gender  Satisfaction Rate Customer Review  \\\n",
       "0            4G Router    Male                  2            Fair   \n",
       "1      Mobile SIM Card  Female                  2            Fair   \n",
       "2  5G Broadband Router    Male                  1            Poor   \n",
       "3      Mobile SIM Card    Male                  1            Poor   \n",
       "4       Broadband MiFi    Male                  1            Poor   \n",
       "\n",
       "   Customer Tenure in months            Subscription Plan  Unit Price  \\\n",
       "0                          2           165GB Monthly Plan       35000   \n",
       "1                         22          12.5GB Monthly Plan        5500   \n",
       "2                         60  150GB FUP Monthly Unlimited       20000   \n",
       "3                         60       1GB+1.5mins Daily Plan         500   \n",
       "4                         60  30GB Monthly Broadband Plan        9000   \n",
       "\n",
       "   Number of Times Purchased  Total Revenue  Data Usage Customer Churn Status  \\\n",
       "0                         19         665000       44.48                   Yes   \n",
       "1                         12          66000       19.79                   Yes   \n",
       "2                          8         160000        9.64                    No   \n",
       "3                          8           4000      197.05                    No   \n",
       "4                         15         135000       76.34                    No   \n",
       "\n",
       "                Reasons for Churn  \n",
       "0                      Relocation  \n",
       "1  Better Offers from Competitors  \n",
       "2                             NaN  \n",
       "3                             NaN  \n",
       "4                             NaN  "
      ]
     },
     "execution_count": 6,
     "metadata": {},
     "output_type": "execute_result"
    }
   ],
   "source": [
    "#CHANGING TO 2 DECIMAL PLACE\n",
    "pd.set_option('display.float_format', lambda x: '%.2f' % x)\n",
    "data.head(5)"
   ]
  },
  {
   "cell_type": "code",
   "execution_count": 184,
   "id": "7d82abfa",
   "metadata": {},
   "outputs": [],
   "source": [
    "colors=[\"#08306B\", \"#08519C\", \"#2171B5\", \"#4292C6\", \"#6BAED6\", \"#9ECAE1\", 'white']"
   ]
  },
  {
   "cell_type": "code",
   "execution_count": 8,
   "id": "6e8c0c2f",
   "metadata": {},
   "outputs": [],
   "source": [
    "color2=[222/255, 234/255, 246/255]"
   ]
  },
  {
   "cell_type": "markdown",
   "id": "f8164957",
   "metadata": {},
   "source": [
    "**Exploratory Analysis**"
   ]
  },
  {
   "cell_type": "markdown",
   "id": "b4158401",
   "metadata": {},
   "source": [
    "# **For Marketing/Sales:**"
   ]
  },
  {
   "cell_type": "markdown",
   "id": "cef1f0b5",
   "metadata": {},
   "source": [
    "1. Which states generate the highest revenue?"
   ]
  },
  {
   "cell_type": "code",
   "execution_count": 9,
   "id": "0d0663a8",
   "metadata": {},
   "outputs": [
    {
     "data": {
      "text/plain": [
       "State\n",
       "Plateau        9463600\n",
       "Ekiti          9240250\n",
       "Yobe           8881700\n",
       "Oyo            8600350\n",
       "Edo            7937650\n",
       "Niger          7740000\n",
       "Zamfara        7248050\n",
       "Abuja (FCT)    7180800\n",
       "Borno          7043400\n",
       "Osun           6965600\n",
       "Name: Total Revenue, dtype: int64"
      ]
     },
     "execution_count": 9,
     "metadata": {},
     "output_type": "execute_result"
    }
   ],
   "source": [
    "Top_Revenue=data.groupby('State')['Total Revenue'].sum().sort_values(ascending = False).head(10)\n",
    "Top_Revenue"
   ]
  },
  {
   "cell_type": "code",
   "execution_count": 176,
   "id": "ca0dbeb5",
   "metadata": {},
   "outputs": [
    {
     "data": {
      "image/png": "[encoded data removed]",
      "text/plain": [
       "<Figure size 640x480 with 1 Axes>"
      ]
     },
     "metadata": {},
     "output_type": "display_data"
    }
   ],
   "source": [
    "Top_Revenue.plot.bar(color=colors, x='State')\n",
    "plt.title('Top_Revenue Generating States')\n",
    "plt.ticklabel_format(axis='y', style='plain')\n",
    "plt.show()"
   ]
  },
  {
   "cell_type": "code",
   "execution_count": 11,
   "id": "a8039c62",
   "metadata": {},
   "outputs": [
    {
     "data": {
      "text/plain": [
       "199348200"
      ]
     },
     "execution_count": 11,
     "metadata": {},
     "output_type": "execute_result"
    }
   ],
   "source": [
    "data['Total Revenue'].sum()"
   ]
  },
  {
   "cell_type": "markdown",
   "id": "2e0147bd",
   "metadata": {},
   "source": [
    "**2. What are the most popular subscription plans by age group or gender?**"
   ]
  },
  {
   "cell_type": "code",
   "execution_count": 12,
   "id": "f1976f31",
   "metadata": {},
   "outputs": [],
   "source": [
    "#Creating an Age group column\n",
    "age_groups=[0,25,35,45,55,100]\n",
    "age_group_labels=['18-24', '25-34', '35-44', '45-54', '55+']\n",
    "data['Age_group']=pd.cut(data['Age'],bins=age_groups, labels=age_group_labels)"
   ]
  },
  {
   "cell_type": "code",
   "execution_count": 13,
   "id": "687a4d0d",
   "metadata": {},
   "outputs": [
    {
     "name": "stderr",
     "output_type": "stream",
     "text": [
      "C:\\Users\\USER\\AppData\\Local\\Temp\\ipykernel_4400\\2301336677.py:1: FutureWarning: The default of observed=False is deprecated and will be changed to True in a future version of pandas. Pass observed=False to retain current behavior or observed=True to adopt the future default and silence this warning.\n",
      "  data.groupby('Age_group')['Subscription Plan'].value_counts().groupby(level=0).head(1).sort_values(ascending=False)\n",
      "C:\\Users\\USER\\AppData\\Local\\Temp\\ipykernel_4400\\2301336677.py:1: FutureWarning: The default of observed=False is deprecated and will be changed to True in a future version of pandas. Pass observed=False to retain current behavior or observed=True to adopt the future default and silence this warning.\n",
      "  data.groupby('Age_group')['Subscription Plan'].value_counts().groupby(level=0).head(1).sort_values(ascending=False)\n"
     ]
    },
    {
     "data": {
      "text/plain": [
       "Age_group  Subscription Plan          \n",
       "55+        150GB FUP Monthly Unlimited    40\n",
       "25-34      30GB Monthly Broadband Plan    19\n",
       "18-24      10GB+10mins Monthly Plan       17\n",
       "35-44      165GB Monthly Plan             17\n",
       "45-54      165GB Monthly Plan             15\n",
       "Name: count, dtype: int64"
      ]
     },
     "execution_count": 13,
     "metadata": {},
     "output_type": "execute_result"
    }
   ],
   "source": [
    "data.groupby('Age_group')['Subscription Plan'].value_counts().groupby(level=0).head(1).sort_values(ascending=False)"
   ]
  },
  {
   "cell_type": "code",
   "execution_count": 14,
   "id": "4bde8835",
   "metadata": {},
   "outputs": [
    {
     "data": {
      "text/plain": [
       "Gender  Subscription Plan          \n",
       "Female  10GB+10mins Monthly Plan       43\n",
       "Male    30GB Monthly Broadband Plan    42\n",
       "Name: count, dtype: int64"
      ]
     },
     "execution_count": 14,
     "metadata": {},
     "output_type": "execute_result"
    }
   ],
   "source": [
    "data.groupby('Gender')['Subscription Plan'].value_counts().groupby(by='Gender',level=0).head(1).sort_values(ascending=False)"
   ]
  },
  {
   "cell_type": "markdown",
   "id": "a7da6a76",
   "metadata": {},
   "source": [
    "**3. How does customer satisfaction impact repurchase rates?**"
   ]
  },
  {
   "cell_type": "code",
   "execution_count": 15,
   "id": "3da43622",
   "metadata": {},
   "outputs": [
    {
     "data": {
      "text/html": [
       "<div>\n",
       "<style scoped>\n",
       "    .dataframe tbody tr th:only-of-type {\n",
       "        vertical-align: middle;\n",
       "    }\n",
       "\n",
       "    .dataframe tbody tr th {\n",
       "        vertical-align: top;\n",
       "    }\n",
       "\n",
       "    .dataframe thead th {\n",
       "        text-align: right;\n",
       "    }\n",
       "</style>\n",
       "<table border=\"1\" class=\"dataframe\">\n",
       "  <thead>\n",
       "    <tr style=\"text-align: right;\">\n",
       "      <th></th>\n",
       "      <th>Customer Review</th>\n",
       "      <th>Number of Times Purchased</th>\n",
       "    </tr>\n",
       "  </thead>\n",
       "  <tbody>\n",
       "    <tr>\n",
       "      <th>0</th>\n",
       "      <td>Very Good</td>\n",
       "      <td>212</td>\n",
       "    </tr>\n",
       "    <tr>\n",
       "      <th>1</th>\n",
       "      <td>Fair</td>\n",
       "      <td>199</td>\n",
       "    </tr>\n",
       "    <tr>\n",
       "      <th>2</th>\n",
       "      <td>Good</td>\n",
       "      <td>199</td>\n",
       "    </tr>\n",
       "    <tr>\n",
       "      <th>3</th>\n",
       "      <td>Poor</td>\n",
       "      <td>198</td>\n",
       "    </tr>\n",
       "    <tr>\n",
       "      <th>4</th>\n",
       "      <td>Excellent</td>\n",
       "      <td>166</td>\n",
       "    </tr>\n",
       "  </tbody>\n",
       "</table>\n",
       "</div>"
      ],
      "text/plain": [
       "  Customer Review  Number of Times Purchased\n",
       "0       Very Good                        212\n",
       "1            Fair                        199\n",
       "2            Good                        199\n",
       "3            Poor                        198\n",
       "4       Excellent                        166"
      ]
     },
     "execution_count": 15,
     "metadata": {},
     "output_type": "execute_result"
    }
   ],
   "source": [
    "repurchase_group=data.groupby('Customer Review')['Number of Times Purchased'].count().sort_values(ascending=False).reset_index()\n",
    "repurchase_group"
   ]
  },
  {
   "cell_type": "code",
   "execution_count": 16,
   "id": "b65ed1bf",
   "metadata": {},
   "outputs": [
    {
     "data": {
      "image/png": "[encoded data removed]",
      "text/plain": [
       "<Figure size 640x480 with 1 Axes>"
      ]
     },
     "metadata": {
      "needs_background": "light"
     },
     "output_type": "display_data"
    }
   ],
   "source": [
    "plt.barh(repurchase_group['Customer Review'], repurchase_group['Number of Times Purchased'], color=colors)\n",
    "plt.title('Customer satisfaction/No of Purchases')\n",
    "plt.xlabel('No of Purcase')\n",
    "plt.gca().set_facecolor('none')\n",
    "plt.gcf().set_facecolor('none')\n",
    "plt.tight_layout()\n",
    "plt.show()"
   ]
  },
  {
   "cell_type": "code",
   "execution_count": 17,
   "id": "7f697575",
   "metadata": {},
   "outputs": [],
   "source": [
    "\n",
    "#sns.scatterplot(data=data, x='Customer Review', y='Number of Times Purchased', hue='Reasons for Churn')\n",
    "#plt.title('Customer satisfaction/No of Purchases')\n",
    "#plt.ylabel('No of Purcase')\n",
    "#plt.legend(loc='upper right')\n",
    "#plt.ticklabel_format(axis='y', style='plain')\n",
    "#plt.show()"
   ]
  },
  {
   "cell_type": "markdown",
   "id": "aed609cb",
   "metadata": {},
   "source": [
    "# **For Product Managers:**"
   ]
  },
  {
   "cell_type": "markdown",
   "id": "51279f73",
   "metadata": {},
   "source": [
    "**4. Which devices are most used among long-tenure customers?**"
   ]
  },
  {
   "cell_type": "code",
   "execution_count": 18,
   "id": "31009e38",
   "metadata": {},
   "outputs": [
    {
     "data": {
      "text/plain": [
       "0         Short\n",
       "1      Moderate\n",
       "2          Long\n",
       "3          Long\n",
       "4          Long\n",
       "         ...   \n",
       "969        Long\n",
       "970    Moderate\n",
       "971        Long\n",
       "972        Long\n",
       "973        Long\n",
       "Name: Tenures, Length: 974, dtype: category\n",
       "Categories (3, object): ['Short' < 'Moderate' < 'Long']"
      ]
     },
     "execution_count": 18,
     "metadata": {},
     "output_type": "execute_result"
    }
   ],
   "source": [
    "#Creating an Tenure rating column\n",
    "Tenure_Rating=[0,10,30,60]\n",
    "Tenure_Rating_group_labels=['Short', 'Moderate', 'Long']\n",
    "data['Tenures']=pd.cut(data['Customer Tenure in months'],bins=Tenure_Rating, labels=Tenure_Rating_group_labels)\n",
    "data['Tenures']"
   ]
  },
  {
   "cell_type": "code",
   "execution_count": 19,
   "id": "3ec04a96",
   "metadata": {},
   "outputs": [
    {
     "data": {
      "text/plain": [
       "MTN Device\n",
       "Mobile SIM Card    145\n",
       "Name: count, dtype: int64"
      ]
     },
     "execution_count": 19,
     "metadata": {},
     "output_type": "execute_result"
    }
   ],
   "source": [
    "data[data['Tenures']=='Long']['MTN Device'].value_counts().head(1)"
   ]
  },
  {
   "cell_type": "markdown",
   "id": "9cd9ccfd",
   "metadata": {},
   "source": [
    "**5. Are certain subscription plans more likely to lead to churn?**"
   ]
  },
  {
   "cell_type": "code",
   "execution_count": 20,
   "id": "6856236a",
   "metadata": {},
   "outputs": [],
   "source": [
    "sub_churn=data[data['Customer Churn Status']=='Yes']"
   ]
  },
  {
   "cell_type": "code",
   "execution_count": 21,
   "id": "ab9009a2",
   "metadata": {},
   "outputs": [
    {
     "data": {
      "text/plain": [
       "Subscription Plan            Customer Churn Status\n",
       "65GB Monthly Plan            Yes                      23\n",
       "300GB FUP Monthly Unlimited  Yes                      22\n",
       "30GB Monthly Broadband Plan  Yes                      22\n",
       "165GB Monthly Plan           Yes                      21\n",
       "60GB Monthly Broadband Plan  Yes                      21\n",
       "Name: count, dtype: int64"
      ]
     },
     "execution_count": 21,
     "metadata": {},
     "output_type": "execute_result"
    }
   ],
   "source": [
    "sub_churn.groupby('Subscription Plan')['Customer Churn Status'].value_counts().sort_values(ascending=False).head(5)"
   ]
  },
  {
   "cell_type": "markdown",
   "id": "cb2e01fb",
   "metadata": {},
   "source": [
    "# **For Customer Experience:**"
   ]
  },
  {
   "cell_type": "markdown",
   "id": "52f214e7",
   "metadata": {},
   "source": [
    "**6. What satisfaction scores are common among churned customers?**"
   ]
  },
  {
   "cell_type": "code",
   "execution_count": 22,
   "id": "f2210c23",
   "metadata": {},
   "outputs": [
    {
     "data": {
      "text/plain": [
       "Satisfaction Rate  Customer Churn Status\n",
       "4                  Yes                      63\n",
       "2                  Yes                      61\n",
       "3                  Yes                      56\n",
       "5                  Yes                      55\n",
       "1                  Yes                      49\n",
       "Name: count, dtype: int64"
      ]
     },
     "execution_count": 22,
     "metadata": {},
     "output_type": "execute_result"
    }
   ],
   "source": [
    "sub_churn.groupby('Satisfaction Rate')['Customer Churn Status'].value_counts().sort_values(ascending=False)"
   ]
  },
  {
   "cell_type": "markdown",
   "id": "0299a2aa",
   "metadata": {},
   "source": [
    "**7. How do qualitative reviews correlate with churn or satisfaction ratings?**"
   ]
  },
  {
   "cell_type": "code",
   "execution_count": 23,
   "id": "5191aeca",
   "metadata": {},
   "outputs": [
    {
     "data": {
      "text/html": [
       "<div>\n",
       "<style scoped>\n",
       "    .dataframe tbody tr th:only-of-type {\n",
       "        vertical-align: middle;\n",
       "    }\n",
       "\n",
       "    .dataframe tbody tr th {\n",
       "        vertical-align: top;\n",
       "    }\n",
       "\n",
       "    .dataframe thead th {\n",
       "        text-align: right;\n",
       "    }\n",
       "</style>\n",
       "<table border=\"1\" class=\"dataframe\">\n",
       "  <thead>\n",
       "    <tr style=\"text-align: right;\">\n",
       "      <th></th>\n",
       "      <th>Customer Review</th>\n",
       "      <th>count</th>\n",
       "    </tr>\n",
       "  </thead>\n",
       "  <tbody>\n",
       "    <tr>\n",
       "      <th>0</th>\n",
       "      <td>Very Good</td>\n",
       "      <td>63</td>\n",
       "    </tr>\n",
       "    <tr>\n",
       "      <th>1</th>\n",
       "      <td>Fair</td>\n",
       "      <td>61</td>\n",
       "    </tr>\n",
       "    <tr>\n",
       "      <th>2</th>\n",
       "      <td>Good</td>\n",
       "      <td>56</td>\n",
       "    </tr>\n",
       "    <tr>\n",
       "      <th>3</th>\n",
       "      <td>Excellent</td>\n",
       "      <td>55</td>\n",
       "    </tr>\n",
       "    <tr>\n",
       "      <th>4</th>\n",
       "      <td>Poor</td>\n",
       "      <td>49</td>\n",
       "    </tr>\n",
       "  </tbody>\n",
       "</table>\n",
       "</div>"
      ],
      "text/plain": [
       "  Customer Review  count\n",
       "0       Very Good     63\n",
       "1            Fair     61\n",
       "2            Good     56\n",
       "3       Excellent     55\n",
       "4            Poor     49"
      ]
     },
     "execution_count": 23,
     "metadata": {},
     "output_type": "execute_result"
    }
   ],
   "source": [
    "Qualitative_churn=sub_churn['Customer Review'].value_counts().reset_index()\n",
    "Qualitative_churn"
   ]
  },
  {
   "cell_type": "code",
   "execution_count": 24,
   "id": "18eb6c65",
   "metadata": {},
   "outputs": [
    {
     "data": {
      "image/png": "[encoded data removed]",
      "text/plain": [
       "<Figure size 800x500 with 1 Axes>"
      ]
     },
     "metadata": {},
     "output_type": "display_data"
    }
   ],
   "source": [
    "plt.figure(figsize=(8,5))\n",
    "plt.pie(Qualitative_churn['count'], labels=Qualitative_churn['Customer Review'], autopct='%1.1f%%', pctdistance=0.85, startangle=90, colors=colors)\n",
    "centre_circle=plt.Circle((0,0), 0.70, fc='#9ECAE1', ec='#9ECAE1', lw=2)\n",
    "plt.title(\"Churned Customer Review Distribution\")\n",
    "plt.axis('equal')\n",
    "plt.gca().add_patch(centre_circle)\n",
    "plt.gca().set_facecolor('none')\n",
    "plt.gcf().set_facecolor('none')\n",
    "plt.tight_layout()\n",
    "plt.show()"
   ]
  },
  {
   "cell_type": "markdown",
   "id": "fd832f28",
   "metadata": {},
   "source": [
    "# **For Data Analysts/Executives:**"
   ]
  },
  {
   "cell_type": "markdown",
   "id": "275510b0",
   "metadata": {},
   "source": [
    "**8. What is the average revenue per user (ARPU)?**"
   ]
  },
  {
   "cell_type": "code",
   "execution_count": 25,
   "id": "c05d6116",
   "metadata": {},
   "outputs": [
    {
     "data": {
      "text/plain": [
       "204669.60985626283"
      ]
     },
     "execution_count": 25,
     "metadata": {},
     "output_type": "execute_result"
    }
   ],
   "source": [
    "data['Total Revenue'].mean()"
   ]
  },
  {
   "cell_type": "markdown",
   "id": "26929736",
   "metadata": {},
   "source": [
    "**9. What States are more likely to churn?**"
   ]
  },
  {
   "cell_type": "code",
   "execution_count": 26,
   "id": "3859b09b",
   "metadata": {},
   "outputs": [
    {
     "data": {
      "text/plain": [
       "State        Customer Churn Status\n",
       "Imo          Yes                      15\n",
       "Abuja (FCT)  Yes                      15\n",
       "Kebbi        Yes                      14\n",
       "Yobe         Yes                      13\n",
       "Benue        Yes                      13\n",
       "Adamawa      Yes                      11\n",
       "Akwa Ibom    Yes                      11\n",
       "Anambra      Yes                      11\n",
       "Edo          Yes                      11\n",
       "Niger        Yes                      11\n",
       "Name: count, dtype: int64"
      ]
     },
     "execution_count": 26,
     "metadata": {},
     "output_type": "execute_result"
    }
   ],
   "source": [
    "sub_churn.groupby('State')['Customer Churn Status'].value_counts().sort_values(ascending=False).head(10)"
   ]
  },
  {
   "cell_type": "markdown",
   "id": "dee1737d",
   "metadata": {},
   "source": [
    "Why most churn came from IMO State:"
   ]
  },
  {
   "cell_type": "code",
   "execution_count": 27,
   "id": "d331e020",
   "metadata": {},
   "outputs": [
    {
     "data": {
      "text/plain": [
       "Reasons for Churn      Customer Churn Status\n",
       "Costly Data Plans      Yes                      5\n",
       "Poor Network           Yes                      4\n",
       "Relocation             Yes                      3\n",
       "High Call Tarriffs     Yes                      2\n",
       "Poor Customer Service  Yes                      1\n",
       "Name: count, dtype: int64"
      ]
     },
     "execution_count": 27,
     "metadata": {},
     "output_type": "execute_result"
    }
   ],
   "source": [
    "imo_state=data[(data['State']=='Imo')&(data['Customer Churn Status']=='Yes')]\n",
    "imo_state.groupby('Reasons for Churn')['Customer Churn Status'].value_counts().sort_values(ascending=False,na_position='last').head(10)"
   ]
  },
  {
   "cell_type": "markdown",
   "id": "4650c125",
   "metadata": {},
   "source": [
    "Most Reason For Customer Churn"
   ]
  },
  {
   "cell_type": "code",
   "execution_count": 28,
   "id": "0e466a56",
   "metadata": {},
   "outputs": [
    {
     "data": {
      "text/html": [
       "<div>\n",
       "<style scoped>\n",
       "    .dataframe tbody tr th:only-of-type {\n",
       "        vertical-align: middle;\n",
       "    }\n",
       "\n",
       "    .dataframe tbody tr th {\n",
       "        vertical-align: top;\n",
       "    }\n",
       "\n",
       "    .dataframe thead th {\n",
       "        text-align: right;\n",
       "    }\n",
       "</style>\n",
       "<table border=\"1\" class=\"dataframe\">\n",
       "  <thead>\n",
       "    <tr style=\"text-align: right;\">\n",
       "      <th></th>\n",
       "      <th>Reasons for Churn</th>\n",
       "      <th>Customer Churn Status</th>\n",
       "      <th>count</th>\n",
       "    </tr>\n",
       "  </thead>\n",
       "  <tbody>\n",
       "    <tr>\n",
       "      <th>0</th>\n",
       "      <td>High Call Tarriffs</td>\n",
       "      <td>Yes</td>\n",
       "      <td>54</td>\n",
       "    </tr>\n",
       "    <tr>\n",
       "      <th>1</th>\n",
       "      <td>Better Offers from Competitors</td>\n",
       "      <td>Yes</td>\n",
       "      <td>52</td>\n",
       "    </tr>\n",
       "    <tr>\n",
       "      <th>2</th>\n",
       "      <td>Poor Network</td>\n",
       "      <td>Yes</td>\n",
       "      <td>45</td>\n",
       "    </tr>\n",
       "    <tr>\n",
       "      <th>3</th>\n",
       "      <td>Costly Data Plans</td>\n",
       "      <td>Yes</td>\n",
       "      <td>40</td>\n",
       "    </tr>\n",
       "    <tr>\n",
       "      <th>4</th>\n",
       "      <td>Poor Customer Service</td>\n",
       "      <td>Yes</td>\n",
       "      <td>34</td>\n",
       "    </tr>\n",
       "    <tr>\n",
       "      <th>5</th>\n",
       "      <td>Fast Data Consumption</td>\n",
       "      <td>Yes</td>\n",
       "      <td>32</td>\n",
       "    </tr>\n",
       "    <tr>\n",
       "      <th>6</th>\n",
       "      <td>Relocation</td>\n",
       "      <td>Yes</td>\n",
       "      <td>27</td>\n",
       "    </tr>\n",
       "  </tbody>\n",
       "</table>\n",
       "</div>"
      ],
      "text/plain": [
       "                Reasons for Churn Customer Churn Status  count\n",
       "0              High Call Tarriffs                   Yes     54\n",
       "1  Better Offers from Competitors                   Yes     52\n",
       "2                    Poor Network                   Yes     45\n",
       "3               Costly Data Plans                   Yes     40\n",
       "4           Poor Customer Service                   Yes     34\n",
       "5           Fast Data Consumption                   Yes     32\n",
       "6                      Relocation                   Yes     27"
      ]
     },
     "execution_count": 28,
     "metadata": {},
     "output_type": "execute_result"
    }
   ],
   "source": [
    "Reaason_churn=sub_churn.groupby('Reasons for Churn')['Customer Churn Status'].value_counts().sort_values(ascending=False,na_position='last').reset_index()\n",
    "Reaason_churn"
   ]
  },
  {
   "cell_type": "code",
   "execution_count": 29,
   "id": "3c9fe26c",
   "metadata": {},
   "outputs": [
    {
     "data": {
      "text/plain": [
       "67.19999999999999"
      ]
     },
     "execution_count": 29,
     "metadata": {},
     "output_type": "execute_result"
    }
   ],
   "source": [
    "19+18.3+15.8+14.1"
   ]
  },
  {
   "cell_type": "code",
   "execution_count": 181,
   "id": "b5e2c6fa",
   "metadata": {},
   "outputs": [
    {
     "data": {
      "text/html": [
       "<div>\n",
       "<style scoped>\n",
       "    .dataframe tbody tr th:only-of-type {\n",
       "        vertical-align: middle;\n",
       "    }\n",
       "\n",
       "    .dataframe tbody tr th {\n",
       "        vertical-align: top;\n",
       "    }\n",
       "\n",
       "    .dataframe thead th {\n",
       "        text-align: right;\n",
       "    }\n",
       "</style>\n",
       "<table border=\"1\" class=\"dataframe\">\n",
       "  <thead>\n",
       "    <tr style=\"text-align: right;\">\n",
       "      <th></th>\n",
       "      <th>Reasons for Churn</th>\n",
       "      <th>count</th>\n",
       "    </tr>\n",
       "  </thead>\n",
       "  <tbody>\n",
       "    <tr>\n",
       "      <th>0</th>\n",
       "      <td>High Call Tarriffs</td>\n",
       "      <td>54</td>\n",
       "    </tr>\n",
       "    <tr>\n",
       "      <th>1</th>\n",
       "      <td>Better Offers from Competitors</td>\n",
       "      <td>52</td>\n",
       "    </tr>\n",
       "    <tr>\n",
       "      <th>2</th>\n",
       "      <td>Poor Network</td>\n",
       "      <td>45</td>\n",
       "    </tr>\n",
       "    <tr>\n",
       "      <th>3</th>\n",
       "      <td>Costly Data Plans</td>\n",
       "      <td>40</td>\n",
       "    </tr>\n",
       "    <tr>\n",
       "      <th>4</th>\n",
       "      <td>Poor Customer Service</td>\n",
       "      <td>34</td>\n",
       "    </tr>\n",
       "    <tr>\n",
       "      <th>5</th>\n",
       "      <td>Fast Data Consumption</td>\n",
       "      <td>32</td>\n",
       "    </tr>\n",
       "    <tr>\n",
       "      <th>6</th>\n",
       "      <td>Relocation</td>\n",
       "      <td>27</td>\n",
       "    </tr>\n",
       "  </tbody>\n",
       "</table>\n",
       "</div>"
      ],
      "text/plain": [
       "                Reasons for Churn  count\n",
       "0              High Call Tarriffs     54\n",
       "1  Better Offers from Competitors     52\n",
       "2                    Poor Network     45\n",
       "3               Costly Data Plans     40\n",
       "4           Poor Customer Service     34\n",
       "5           Fast Data Consumption     32\n",
       "6                      Relocation     27"
      ]
     },
     "execution_count": 181,
     "metadata": {},
     "output_type": "execute_result"
    }
   ],
   "source": [
    "Reason_churn=sub_churn['Reasons for Churn'].value_counts().reset_index()\n",
    "Reason_churn"
   ]
  },
  {
   "cell_type": "code",
   "execution_count": 192,
   "id": "b40a2dae",
   "metadata": {},
   "outputs": [
    {
     "data": {
      "image/png": "[encoded data removed]",
      "text/plain": [
       "<Figure size 700x500 with 1 Axes>"
      ]
     },
     "metadata": {},
     "output_type": "display_data"
    }
   ],
   "source": [
    "plt.figure(figsize=(7,5))\n",
    "plt.pie(Reason_churn['count'], labels=Reason_churn['Reasons for Churn'], autopct='%1.1f%%', pctdistance=0.85, startangle=90, colors=colors)\n",
    "centre_circle=plt.Circle((0,0), 0.70, fc='#9ECAE1', ec='#9ECAE1', lw=2)\n",
    "plt.title(\"Churned Customer's Overall Reasons Churn\", fontweight='bold', pad=25)\n",
    "plt.axis('equal')\n",
    "plt.gca().add_patch(centre_circle)\n",
    "plt.gca().set_facecolor('none')\n",
    "plt.gcf().set_facecolor('none')\n",
    "plt.tight_layout()\n",
    "plt.show()"
   ]
  },
  {
   "cell_type": "markdown",
   "id": "27c94bfd",
   "metadata": {},
   "source": [
    "**10. Month with most churn?**"
   ]
  },
  {
   "cell_type": "code",
   "execution_count": 32,
   "id": "a25cd830",
   "metadata": {},
   "outputs": [
    {
     "data": {
      "text/plain": [
       "Date of Purchase\n",
       "2025-02-25    142\n",
       "2025-03-25     77\n",
       "2025-01-25     65\n",
       "Name: count, dtype: int64"
      ]
     },
     "execution_count": 32,
     "metadata": {},
     "output_type": "execute_result"
    }
   ],
   "source": [
    "sub_churn['Date of Purchase'].value_counts()"
   ]
  },
  {
   "cell_type": "code",
   "execution_count": 33,
   "id": "cc904e74",
   "metadata": {},
   "outputs": [
    {
     "data": {
      "text/plain": [
       "Date of Purchase\n",
       "2025-02-25    50.0%\n",
       "2025-03-25    27.1%\n",
       "2025-01-25    22.9%\n",
       "Name: proportion, dtype: object"
      ]
     },
     "execution_count": 33,
     "metadata": {},
     "output_type": "execute_result"
    }
   ],
   "source": [
    "sub_churn['Date of Purchase'].value_counts(normalize='True').mul(100).round(1).astype(str) + '%'"
   ]
  },
  {
   "cell_type": "markdown",
   "id": "8d621bfb",
   "metadata": {},
   "source": [
    "*Why Most churn Came in February*"
   ]
  },
  {
   "cell_type": "code",
   "execution_count": 34,
   "id": "c26ccc63",
   "metadata": {},
   "outputs": [
    {
     "data": {
      "text/plain": [
       "Reasons for Churn\n",
       "Better Offers from Competitors    21.8%\n",
       "High Call Tarriffs                16.9%\n",
       "Costly Data Plans                 15.5%\n",
       "Poor Network                      12.7%\n",
       "Fast Data Consumption             11.3%\n",
       "Poor Customer Service             11.3%\n",
       "Relocation                        10.6%\n",
       "Name: proportion, dtype: object"
      ]
     },
     "execution_count": 34,
     "metadata": {},
     "output_type": "execute_result"
    }
   ],
   "source": [
    "Feb=data[(data['Date of Purchase']=='2025-02-25')&(data['Customer Churn Status']=='Yes')]\n",
    "Feb['Reasons for Churn'].value_counts(normalize='True').mul(100).round(1).astype(str) + '%'"
   ]
  },
  {
   "cell_type": "markdown",
   "id": "68ef4ee6",
   "metadata": {},
   "source": [
    "**10. Month with most Revenue Generated?**"
   ]
  },
  {
   "cell_type": "code",
   "execution_count": 35,
   "id": "0b9c5474",
   "metadata": {},
   "outputs": [
    {
     "data": {
      "text/plain": [
       "0     2025-01-25\n",
       "1     2025-03-25\n",
       "2     2025-03-25\n",
       "3     2025-03-25\n",
       "4     2025-03-25\n",
       "         ...    \n",
       "969   2025-01-25\n",
       "970   2025-03-25\n",
       "971   2025-02-25\n",
       "972   2025-02-25\n",
       "973   2025-02-25\n",
       "Name: Date of Purchase, Length: 974, dtype: datetime64[ns]"
      ]
     },
     "execution_count": 35,
     "metadata": {},
     "output_type": "execute_result"
    }
   ],
   "source": [
    "data['Date of Purchase']=pd.to_datetime(data['Date of Purchase'])\n",
    "data['Date of Purchase']"
   ]
  },
  {
   "cell_type": "code",
   "execution_count": 36,
   "id": "39b90323",
   "metadata": {},
   "outputs": [
    {
     "data": {
      "text/plain": [
       "0       January\n",
       "1         March\n",
       "2         March\n",
       "3         March\n",
       "4         March\n",
       "         ...   \n",
       "969     January\n",
       "970       March\n",
       "971    February\n",
       "972    February\n",
       "973    February\n",
       "Name: Month, Length: 974, dtype: object"
      ]
     },
     "execution_count": 36,
     "metadata": {},
     "output_type": "execute_result"
    }
   ],
   "source": [
    "data[\"Month\"] = data[\"Date of Purchase\"].dt.strftime('%B')\n",
    "data[\"Month\"]"
   ]
  },
  {
   "cell_type": "code",
   "execution_count": 37,
   "id": "42b729d3",
   "metadata": {},
   "outputs": [
    {
     "data": {
      "text/plain": [
       "Month\n",
       "February    87173550\n",
       "January     63366500\n",
       "March       48808150\n",
       "Name: Total Revenue, dtype: int64"
      ]
     },
     "execution_count": 37,
     "metadata": {},
     "output_type": "execute_result"
    }
   ],
   "source": [
    "date_pur=data.groupby('Month')['Total Revenue'].sum().sort_values(ascending=False)\n",
    "date_pur"
   ]
  },
  {
   "cell_type": "code",
   "execution_count": 38,
   "id": "1bdef460",
   "metadata": {},
   "outputs": [
    {
     "data": {
      "text/plain": [
       "Month\n",
       "February     NaN\n",
       "January    -0.27\n",
       "March      -0.23\n",
       "Name: Total Revenue, dtype: float64"
      ]
     },
     "execution_count": 38,
     "metadata": {},
     "output_type": "execute_result"
    }
   ],
   "source": [
    "data.groupby('Month')['Total Revenue'].sum().sort_values(ascending=False).pct_change()"
   ]
  },
  {
   "cell_type": "code",
   "execution_count": 39,
   "id": "c601ab6c",
   "metadata": {},
   "outputs": [
    {
     "name": "stderr",
     "output_type": "stream",
     "text": [
      "C:\\Users\\USER\\AppData\\Local\\Temp\\ipykernel_4400\\1408330381.py:2: FutureWarning: \n",
      "\n",
      "Passing `palette` without assigning `hue` is deprecated and will be removed in v0.14.0. Assign the `x` variable to `hue` and set `legend=False` for the same effect.\n",
      "\n",
      "  sns.barplot(data=date_pur, palette=colors)\n",
      "C:\\Users\\USER\\AppData\\Local\\Temp\\ipykernel_4400\\1408330381.py:2: UserWarning: The palette list has more values (6) than needed (3), which may not be intended.\n",
      "  sns.barplot(data=date_pur, palette=colors)\n"
     ]
    },
    {
     "data": {
      "image/png": "[encoded data removed]",
      "text/plain": [
       "<Figure size 500x400 with 1 Axes>"
      ]
     },
     "metadata": {},
     "output_type": "display_data"
    }
   ],
   "source": [
    "plt.figure(figsize=(5,4))\n",
    "sns.barplot(data=date_pur, palette=colors)\n",
    "plt.title('Monthly Revenue', fontweight='bold')\n",
    "plt.gca().set_facecolor(color2)\n",
    "plt.gcf().set_facecolor(color2)\n",
    "plt.ylabel('Revenue (million)', fontweight='bold')\n",
    "plt.xlabel('Month',fontweight='bold')\n",
    "plt.tight_layout()\n",
    "plt.show()"
   ]
  },
  {
   "cell_type": "markdown",
   "id": "29f6a6ca",
   "metadata": {},
   "source": [
    "**Month with Most Purchase**"
   ]
  },
  {
   "cell_type": "code",
   "execution_count": 40,
   "id": "24f90420",
   "metadata": {},
   "outputs": [
    {
     "data": {
      "text/plain": [
       "Date of Purchase\n",
       "2025-02-25    450\n",
       "2025-01-25    271\n",
       "2025-03-25    253\n",
       "Name: Customer ID, dtype: int64"
      ]
     },
     "execution_count": 40,
     "metadata": {},
     "output_type": "execute_result"
    }
   ],
   "source": [
    "data.groupby('Date of Purchase')['Customer ID'].count().sort_values(ascending=False)"
   ]
  },
  {
   "cell_type": "code",
   "execution_count": 41,
   "id": "871c5d0b",
   "metadata": {},
   "outputs": [
    {
     "name": "stderr",
     "output_type": "stream",
     "text": [
      "C:\\Users\\USER\\AppData\\Local\\Temp\\ipykernel_4400\\3262584482.py:1: UserWarning: The palette list has more values (6) than needed (5), which may not be intended.\n",
      "  sns.countplot(data=data, x='Date of Purchase', hue='Age_group', palette=colors)\n"
     ]
    },
    {
     "data": {
      "image/png": "[encoded data removed]",
      "text/plain": [
       "<Figure size 640x480 with 1 Axes>"
      ]
     },
     "metadata": {},
     "output_type": "display_data"
    }
   ],
   "source": [
    "sns.countplot(data=data, x='Date of Purchase', hue='Age_group', palette=colors)\n",
    "plt.title('Month with most purchases')\n",
    "plt.show()"
   ]
  },
  {
   "cell_type": "markdown",
   "id": "c2e221da",
   "metadata": {},
   "source": [
    "*focus on specific age group*"
   ]
  },
  {
   "cell_type": "markdown",
   "id": "57923900",
   "metadata": {},
   "source": [
    "**Overall Customer Churn Percentage**"
   ]
  },
  {
   "cell_type": "code",
   "execution_count": 42,
   "id": "63892239",
   "metadata": {},
   "outputs": [
    {
     "data": {
      "text/plain": [
       "Customer Churn Status\n",
       "No     70.8%\n",
       "Yes    29.2%\n",
       "Name: proportion, dtype: object"
      ]
     },
     "execution_count": 42,
     "metadata": {},
     "output_type": "execute_result"
    }
   ],
   "source": [
    "data['Customer Churn Status'].value_counts(normalize='True').mul(100).round(1).astype(str) + '%'"
   ]
  },
  {
   "cell_type": "code",
   "execution_count": 43,
   "id": "b0af4a50",
   "metadata": {},
   "outputs": [
    {
     "data": {
      "text/html": [
       "<div>\n",
       "<style scoped>\n",
       "    .dataframe tbody tr th:only-of-type {\n",
       "        vertical-align: middle;\n",
       "    }\n",
       "\n",
       "    .dataframe tbody tr th {\n",
       "        vertical-align: top;\n",
       "    }\n",
       "\n",
       "    .dataframe thead th {\n",
       "        text-align: right;\n",
       "    }\n",
       "</style>\n",
       "<table border=\"1\" class=\"dataframe\">\n",
       "  <thead>\n",
       "    <tr style=\"text-align: right;\">\n",
       "      <th></th>\n",
       "      <th>Customer Churn Status</th>\n",
       "      <th>count</th>\n",
       "    </tr>\n",
       "  </thead>\n",
       "  <tbody>\n",
       "    <tr>\n",
       "      <th>0</th>\n",
       "      <td>No</td>\n",
       "      <td>690</td>\n",
       "    </tr>\n",
       "    <tr>\n",
       "      <th>1</th>\n",
       "      <td>Yes</td>\n",
       "      <td>284</td>\n",
       "    </tr>\n",
       "  </tbody>\n",
       "</table>\n",
       "</div>"
      ],
      "text/plain": [
       "  Customer Churn Status  count\n",
       "0                    No    690\n",
       "1                   Yes    284"
      ]
     },
     "execution_count": 43,
     "metadata": {},
     "output_type": "execute_result"
    }
   ],
   "source": [
    "cust_churn=data['Customer Churn Status'].value_counts().reset_index(name='count')\n",
    "cust_churn"
   ]
  },
  {
   "cell_type": "code",
   "execution_count": 44,
   "id": "7276afde",
   "metadata": {},
   "outputs": [
    {
     "data": {
      "image/png": "[encoded data removed]",
      "text/plain": [
       "<Figure size 640x480 with 1 Axes>"
      ]
     },
     "metadata": {},
     "output_type": "display_data"
    }
   ],
   "source": [
    "plt.pie(cust_churn['count'], labels=cust_churn['Customer Churn Status'], autopct='%1.1f%%', pctdistance=0.55, startangle=90)\n",
    "plt.title('Customer Churn Status')\n",
    "plt.show()"
   ]
  },
  {
   "cell_type": "code",
   "execution_count": 45,
   "id": "b9f7a5f4",
   "metadata": {},
   "outputs": [
    {
     "data": {
      "text/plain": [
       "7"
      ]
     },
     "execution_count": 45,
     "metadata": {},
     "output_type": "execute_result"
    }
   ],
   "source": [
    "data['Reasons for Churn'].nunique()"
   ]
  },
  {
   "cell_type": "code",
   "execution_count": 46,
   "id": "a4c6370f",
   "metadata": {},
   "outputs": [
    {
     "data": {
      "image/png": "[encoded data removed]",
      "text/plain": [
       "<Figure size 500x500 with 1 Axes>"
      ]
     },
     "metadata": {},
     "output_type": "display_data"
    }
   ],
   "source": [
    "plt.figure(figsize=(5,5))\n",
    "sns.countplot(data=data, x='Customer Churn Status', stat='percent', width=0.3, color='#FF9900')\n",
    "plt.ylabel('Count Percentage')\n",
    "plt.show()"
   ]
  },
  {
   "cell_type": "markdown",
   "id": "c168100f",
   "metadata": {},
   "source": [
    "# **Dashboard Metric**"
   ]
  },
  {
   "cell_type": "markdown",
   "id": "37591799",
   "metadata": {},
   "source": [
    "*Customer churn rate*"
   ]
  },
  {
   "cell_type": "code",
   "execution_count": 47,
   "id": "375ca5d1",
   "metadata": {},
   "outputs": [
    {
     "data": {
      "text/plain": [
       "29.2"
      ]
     },
     "execution_count": 47,
     "metadata": {},
     "output_type": "execute_result"
    }
   ],
   "source": [
    "churn_rate=(sub_churn['Customer Churn Status'].count()/(data['Customer ID'].count())*100).round(1)\n",
    "churn_rate"
   ]
  },
  {
   "cell_type": "markdown",
   "id": "a7230c24",
   "metadata": {},
   "source": [
    "*Customer Retention Rate*"
   ]
  },
  {
   "cell_type": "code",
   "execution_count": 48,
   "id": "1ee22be5",
   "metadata": {},
   "outputs": [
    {
     "data": {
      "text/plain": [
       "70.8"
      ]
     },
     "execution_count": 48,
     "metadata": {},
     "output_type": "execute_result"
    }
   ],
   "source": [
    "100-churn_rate"
   ]
  },
  {
   "cell_type": "markdown",
   "id": "23e0d021",
   "metadata": {},
   "source": [
    "*Average Customer Tenure (Months)*"
   ]
  },
  {
   "cell_type": "code",
   "execution_count": 49,
   "id": "f91980fc",
   "metadata": {},
   "outputs": [
    {
     "data": {
      "text/plain": [
       "31.4"
      ]
     },
     "execution_count": 49,
     "metadata": {},
     "output_type": "execute_result"
    }
   ],
   "source": [
    "data['Customer Tenure in months'].mean().round(1)"
   ]
  },
  {
   "cell_type": "markdown",
   "id": "e93edc4a",
   "metadata": {},
   "source": [
    "*Top Reasons for Churn*"
   ]
  },
  {
   "cell_type": "code",
   "execution_count": 50,
   "id": "2bed2264",
   "metadata": {},
   "outputs": [
    {
     "data": {
      "text/plain": [
       "Reasons for Churn\n",
       "High Call Tarriffs                54\n",
       "Better Offers from Competitors    52\n",
       "Poor Network                      45\n",
       "Costly Data Plans                 40\n",
       "Poor Customer Service             34\n",
       "Fast Data Consumption             32\n",
       "Relocation                        27\n",
       "Name: count, dtype: int64"
      ]
     },
     "execution_count": 50,
     "metadata": {},
     "output_type": "execute_result"
    }
   ],
   "source": [
    "sub_churn['Reasons for Churn'].value_counts().sort_values(ascending=False,na_position='last')"
   ]
  },
  {
   "cell_type": "markdown",
   "id": "d6b80d3f",
   "metadata": {},
   "source": [
    "**Revenue & Financials**"
   ]
  },
  {
   "cell_type": "markdown",
   "id": "db7eefb0",
   "metadata": {},
   "source": [
    "*Total Revenue*"
   ]
  },
  {
   "cell_type": "code",
   "execution_count": 51,
   "id": "0a8dba66",
   "metadata": {},
   "outputs": [
    {
     "data": {
      "text/plain": [
       "199348200"
      ]
     },
     "execution_count": 51,
     "metadata": {},
     "output_type": "execute_result"
    }
   ],
   "source": [
    "data['Total Revenue'].sum()"
   ]
  },
  {
   "cell_type": "markdown",
   "id": "91e7ed27",
   "metadata": {},
   "source": [
    "*Average Revenue Per User (ARPU)*"
   ]
  },
  {
   "cell_type": "code",
   "execution_count": 52,
   "id": "3baf7e26",
   "metadata": {},
   "outputs": [
    {
     "data": {
      "text/plain": [
       "204669.60985626283"
      ]
     },
     "execution_count": 52,
     "metadata": {},
     "output_type": "execute_result"
    }
   ],
   "source": [
    "(data['Total Revenue'].sum())/(data['Customer ID'].count())"
   ]
  },
  {
   "cell_type": "markdown",
   "id": "2a9d9e61",
   "metadata": {},
   "source": [
    "*Revenue by State*"
   ]
  },
  {
   "cell_type": "code",
   "execution_count": 53,
   "id": "4cd1a505",
   "metadata": {},
   "outputs": [
    {
     "data": {
      "text/html": [
       "<div>\n",
       "<style scoped>\n",
       "    .dataframe tbody tr th:only-of-type {\n",
       "        vertical-align: middle;\n",
       "    }\n",
       "\n",
       "    .dataframe tbody tr th {\n",
       "        vertical-align: top;\n",
       "    }\n",
       "\n",
       "    .dataframe thead th {\n",
       "        text-align: right;\n",
       "    }\n",
       "</style>\n",
       "<table border=\"1\" class=\"dataframe\">\n",
       "  <thead>\n",
       "    <tr style=\"text-align: right;\">\n",
       "      <th></th>\n",
       "      <th>State</th>\n",
       "      <th>Total Revenue</th>\n",
       "    </tr>\n",
       "  </thead>\n",
       "  <tbody>\n",
       "    <tr>\n",
       "      <th>0</th>\n",
       "      <td>Plateau</td>\n",
       "      <td>9463600</td>\n",
       "    </tr>\n",
       "    <tr>\n",
       "      <th>1</th>\n",
       "      <td>Ekiti</td>\n",
       "      <td>9240250</td>\n",
       "    </tr>\n",
       "    <tr>\n",
       "      <th>2</th>\n",
       "      <td>Yobe</td>\n",
       "      <td>8881700</td>\n",
       "    </tr>\n",
       "    <tr>\n",
       "      <th>3</th>\n",
       "      <td>Oyo</td>\n",
       "      <td>8600350</td>\n",
       "    </tr>\n",
       "    <tr>\n",
       "      <th>4</th>\n",
       "      <td>Edo</td>\n",
       "      <td>7937650</td>\n",
       "    </tr>\n",
       "    <tr>\n",
       "      <th>5</th>\n",
       "      <td>Niger</td>\n",
       "      <td>7740000</td>\n",
       "    </tr>\n",
       "    <tr>\n",
       "      <th>6</th>\n",
       "      <td>Zamfara</td>\n",
       "      <td>7248050</td>\n",
       "    </tr>\n",
       "    <tr>\n",
       "      <th>7</th>\n",
       "      <td>Abuja (FCT)</td>\n",
       "      <td>7180800</td>\n",
       "    </tr>\n",
       "    <tr>\n",
       "      <th>8</th>\n",
       "      <td>Borno</td>\n",
       "      <td>7043400</td>\n",
       "    </tr>\n",
       "    <tr>\n",
       "      <th>9</th>\n",
       "      <td>Osun</td>\n",
       "      <td>6965600</td>\n",
       "    </tr>\n",
       "  </tbody>\n",
       "</table>\n",
       "</div>"
      ],
      "text/plain": [
       "         State  Total Revenue\n",
       "0      Plateau        9463600\n",
       "1        Ekiti        9240250\n",
       "2         Yobe        8881700\n",
       "3          Oyo        8600350\n",
       "4          Edo        7937650\n",
       "5        Niger        7740000\n",
       "6      Zamfara        7248050\n",
       "7  Abuja (FCT)        7180800\n",
       "8        Borno        7043400\n",
       "9         Osun        6965600"
      ]
     },
     "execution_count": 53,
     "metadata": {},
     "output_type": "execute_result"
    }
   ],
   "source": [
    "Top_Revenue = Top_Revenue.reset_index()\n",
    "Top_Revenue"
   ]
  },
  {
   "cell_type": "code",
   "execution_count": 54,
   "id": "53ba7ecc",
   "metadata": {},
   "outputs": [
    {
     "data": {
      "image/png": "[encoded data removed]",
      "text/plain": [
       "<Figure size 640x480 with 1 Axes>"
      ]
     },
     "metadata": {},
     "output_type": "display_data"
    }
   ],
   "source": [
    "Top_Revenue.plot.barh(x='State', y='Total Revenue', color=colors)\n",
    "plt.title('Top_Revenue Generating States', fontweight='bold')\n",
    "plt.legend().set_visible(False)\n",
    "plt.gca().set_facecolor(color2)\n",
    "plt.gcf().set_facecolor(color2)\n",
    "plt.ticklabel_format(axis='x', style='sci')\n",
    "plt.xlabel('Revenue (millions)')\n",
    "plt.show()"
   ]
  },
  {
   "cell_type": "markdown",
   "id": "c64c513c",
   "metadata": {},
   "source": [
    "*Revenue by Subscription Plan*"
   ]
  },
  {
   "cell_type": "code",
   "execution_count": 55,
   "id": "12514123",
   "metadata": {},
   "outputs": [
    {
     "data": {
      "text/plain": [
       "Subscription Plan\n",
       "1.5TB Yearly Broadband Plan     40200000\n",
       "165GB Monthly Plan              26250000\n",
       "300GB FUP Monthly Unlimited     25770000\n",
       "150GB FUP Monthly Unlimited     18980000\n",
       "450GB 3-Month Broadband Plan    18375000\n",
       "120GB Monthly Broadband Plan    15960000\n",
       "60GB Monthly Broadband Plan     13180500\n",
       "65GB Monthly Plan                9312000\n",
       "200GB Monthly Broadband Plan     8500000\n",
       "30GB Monthly Broadband Plan      7920000\n",
       "Name: Total Revenue, dtype: int64"
      ]
     },
     "execution_count": 55,
     "metadata": {},
     "output_type": "execute_result"
    }
   ],
   "source": [
    "Rev_Sub=data.groupby('Subscription Plan')['Total Revenue'].sum().sort_values(ascending=False).head(10)\n",
    "Rev_Sub"
   ]
  },
  {
   "cell_type": "code",
   "execution_count": 56,
   "id": "3dd6094b",
   "metadata": {},
   "outputs": [
    {
     "data": {
      "image/png": "[encoded data removed]",
      "text/plain": [
       "<Figure size 640x480 with 1 Axes>"
      ]
     },
     "metadata": {},
     "output_type": "display_data"
    }
   ],
   "source": [
    "Rev_Sub.plot.barh(x='Subscription Plan', y='Total Revenue', color=colors)\n",
    "plt.title('Top_Revenue Generating Subscriptions', fontweight='bold')\n",
    "plt.gca().set_facecolor(color2)\n",
    "plt.gcf().set_facecolor(color2)\n",
    "plt.ticklabel_format(axis='x', style='sci')\n",
    "plt.xlabel('Revenue (millions)')\n",
    "plt.show()"
   ]
  },
  {
   "cell_type": "markdown",
   "id": "3004b538",
   "metadata": {},
   "source": [
    "**Customer Behavior**"
   ]
  },
  {
   "cell_type": "markdown",
   "id": "85d1efde",
   "metadata": {},
   "source": [
    "*Average Data Usage (GB)*"
   ]
  },
  {
   "cell_type": "code",
   "execution_count": 57,
   "id": "fa6101e2",
   "metadata": {},
   "outputs": [
    {
     "data": {
      "text/plain": [
       "99.3047638603696"
      ]
     },
     "execution_count": 57,
     "metadata": {},
     "output_type": "execute_result"
    }
   ],
   "source": [
    "data['Data Usage'].mean()"
   ]
  },
  {
   "cell_type": "markdown",
   "id": "ecc8e8ea",
   "metadata": {},
   "source": [
    "*Most Purchased Subscription Plans*"
   ]
  },
  {
   "cell_type": "code",
   "execution_count": 58,
   "id": "98ccc08f",
   "metadata": {},
   "outputs": [
    {
     "data": {
      "text/plain": [
       "Subscription Plan\n",
       "65GB Monthly Plan              8.10\n",
       "300GB FUP Monthly Unlimited    7.70\n",
       "30GB Monthly Broadband Plan    7.70\n",
       "165GB Monthly Plan             7.40\n",
       "60GB Monthly Broadband Plan    7.40\n",
       "150GB FUP Monthly Unlimited    6.70\n",
       "25GB Monthly Plan              5.60\n",
       "3.2GB 2-Day Plan               5.30\n",
       "200GB Monthly Broadband Plan   4.90\n",
       "10GB+10mins Monthly Plan       4.90\n",
       "120GB Monthly Broadband Plan   4.90\n",
       "12.5GB Monthly Plan            3.50\n",
       "2.5GB 2-Day Plan               3.50\n",
       "16.5GB+10mins Monthly Plan     3.50\n",
       "1.5GB 2-Day Plan               3.20\n",
       "500MB Daily Plan               2.80\n",
       "20GB Monthly Plan              2.80\n",
       "7GB Monthly Plan               2.80\n",
       "1GB+1.5mins Daily Plan         2.50\n",
       "1.5TB Yearly Broadband Plan    2.50\n",
       "450GB 3-Month Broadband Plan   2.10\n",
       "Name: proportion, dtype: float64"
      ]
     },
     "execution_count": 58,
     "metadata": {},
     "output_type": "execute_result"
    }
   ],
   "source": [
    "sub_churn['Subscription Plan'].value_counts(normalize=True).mul(100).round(1)"
   ]
  },
  {
   "cell_type": "code",
   "execution_count": 59,
   "id": "443790ee",
   "metadata": {},
   "outputs": [
    {
     "data": {
      "text/plain": [
       "Reasons for Churn\n",
       "Better Offers from Competitors   25.80\n",
       "Poor Network                     16.70\n",
       "Poor Customer Service            13.60\n",
       "Relocation                       12.10\n",
       "Costly Data Plans                12.10\n",
       "High Call Tarriffs               10.60\n",
       "Fast Data Consumption             9.10\n",
       "Name: proportion, dtype: float64"
      ]
     },
     "execution_count": 59,
     "metadata": {},
     "output_type": "execute_result"
    }
   ],
   "source": [
    "why_churn=sub_churn[sub_churn['Subscription Plan'].isin(['65GB Monthly Plan', '300GB FUP Monthly Unlimited', '165GB Monthly Plan'])]\n",
    "why_churn['Reasons for Churn'].value_counts(normalize=True).mul(100).round(1)"
   ]
  },
  {
   "cell_type": "code",
   "execution_count": 60,
   "id": "74a57034",
   "metadata": {},
   "outputs": [
    {
     "data": {
      "text/html": [
       "<div>\n",
       "<style scoped>\n",
       "    .dataframe tbody tr th:only-of-type {\n",
       "        vertical-align: middle;\n",
       "    }\n",
       "\n",
       "    .dataframe tbody tr th {\n",
       "        vertical-align: top;\n",
       "    }\n",
       "\n",
       "    .dataframe thead th {\n",
       "        text-align: right;\n",
       "    }\n",
       "</style>\n",
       "<table border=\"1\" class=\"dataframe\">\n",
       "  <thead>\n",
       "    <tr style=\"text-align: right;\">\n",
       "      <th></th>\n",
       "      <th>Subscription Plan</th>\n",
       "      <th>Number of Times Purchased</th>\n",
       "    </tr>\n",
       "  </thead>\n",
       "  <tbody>\n",
       "    <tr>\n",
       "      <th>0</th>\n",
       "      <td>150GB FUP Monthly Unlimited</td>\n",
       "      <td>949</td>\n",
       "    </tr>\n",
       "    <tr>\n",
       "      <th>1</th>\n",
       "      <td>60GB Monthly Broadband Plan</td>\n",
       "      <td>909</td>\n",
       "    </tr>\n",
       "    <tr>\n",
       "      <th>2</th>\n",
       "      <td>30GB Monthly Broadband Plan</td>\n",
       "      <td>880</td>\n",
       "    </tr>\n",
       "    <tr>\n",
       "      <th>3</th>\n",
       "      <td>300GB FUP Monthly Unlimited</td>\n",
       "      <td>859</td>\n",
       "    </tr>\n",
       "    <tr>\n",
       "      <th>4</th>\n",
       "      <td>165GB Monthly Plan</td>\n",
       "      <td>750</td>\n",
       "    </tr>\n",
       "    <tr>\n",
       "      <th>5</th>\n",
       "      <td>120GB Monthly Broadband Plan</td>\n",
       "      <td>665</td>\n",
       "    </tr>\n",
       "    <tr>\n",
       "      <th>6</th>\n",
       "      <td>10GB+10mins Monthly Plan</td>\n",
       "      <td>622</td>\n",
       "    </tr>\n",
       "    <tr>\n",
       "      <th>7</th>\n",
       "      <td>65GB Monthly Plan</td>\n",
       "      <td>582</td>\n",
       "    </tr>\n",
       "    <tr>\n",
       "      <th>8</th>\n",
       "      <td>25GB Monthly Plan</td>\n",
       "      <td>480</td>\n",
       "    </tr>\n",
       "    <tr>\n",
       "      <th>9</th>\n",
       "      <td>12.5GB Monthly Plan</td>\n",
       "      <td>406</td>\n",
       "    </tr>\n",
       "  </tbody>\n",
       "</table>\n",
       "</div>"
      ],
      "text/plain": [
       "              Subscription Plan  Number of Times Purchased\n",
       "0   150GB FUP Monthly Unlimited                        949\n",
       "1   60GB Monthly Broadband Plan                        909\n",
       "2   30GB Monthly Broadband Plan                        880\n",
       "3   300GB FUP Monthly Unlimited                        859\n",
       "4            165GB Monthly Plan                        750\n",
       "5  120GB Monthly Broadband Plan                        665\n",
       "6      10GB+10mins Monthly Plan                        622\n",
       "7             65GB Monthly Plan                        582\n",
       "8             25GB Monthly Plan                        480\n",
       "9           12.5GB Monthly Plan                        406"
      ]
     },
     "execution_count": 60,
     "metadata": {},
     "output_type": "execute_result"
    }
   ],
   "source": [
    "sub_behave=data.groupby('Subscription Plan')['Number of Times Purchased'].sum().sort_values(ascending=False).head(10).reset_index()\n",
    "sub_behave"
   ]
  },
  {
   "cell_type": "code",
   "execution_count": 61,
   "id": "577bdcbd",
   "metadata": {},
   "outputs": [
    {
     "data": {
      "image/png": "[encoded data removed]",
      "text/plain": [
       "<Figure size 640x480 with 1 Axes>"
      ]
     },
     "metadata": {},
     "output_type": "display_data"
    }
   ],
   "source": [
    "sns.scatterplot(data= data, x=data['Number of Times Purchased'], y=sub_behave['Subscription Plan'], hue=data['Customer Review'])\n",
    "plt.title('Most Purchased Plans with their Avg Reviews', fontweight='bold')\n",
    "plt.gca().set_facecolor(color2)\n",
    "plt.gcf().set_facecolor(color2)\n",
    "plt.xlabel('Purchase Percentage')\n",
    "plt.show()"
   ]
  },
  {
   "cell_type": "markdown",
   "id": "2dd1b4e1",
   "metadata": {},
   "source": [
    "*Device Type Distribution*"
   ]
  },
  {
   "cell_type": "code",
   "execution_count": 62,
   "id": "2bcaa110",
   "metadata": {},
   "outputs": [
    {
     "data": {
      "text/html": [
       "<div>\n",
       "<style scoped>\n",
       "    .dataframe tbody tr th:only-of-type {\n",
       "        vertical-align: middle;\n",
       "    }\n",
       "\n",
       "    .dataframe tbody tr th {\n",
       "        vertical-align: top;\n",
       "    }\n",
       "\n",
       "    .dataframe thead th {\n",
       "        text-align: right;\n",
       "    }\n",
       "</style>\n",
       "<table border=\"1\" class=\"dataframe\">\n",
       "  <thead>\n",
       "    <tr style=\"text-align: right;\">\n",
       "      <th></th>\n",
       "      <th>MTN Device</th>\n",
       "      <th>Customer Churn Status</th>\n",
       "      <th>count</th>\n",
       "    </tr>\n",
       "  </thead>\n",
       "  <tbody>\n",
       "    <tr>\n",
       "      <th>0</th>\n",
       "      <td>4G Router</td>\n",
       "      <td>No</td>\n",
       "      <td>151</td>\n",
       "    </tr>\n",
       "    <tr>\n",
       "      <th>1</th>\n",
       "      <td>4G Router</td>\n",
       "      <td>Yes</td>\n",
       "      <td>65</td>\n",
       "    </tr>\n",
       "    <tr>\n",
       "      <th>2</th>\n",
       "      <td>5G Broadband Router</td>\n",
       "      <td>No</td>\n",
       "      <td>165</td>\n",
       "    </tr>\n",
       "    <tr>\n",
       "      <th>3</th>\n",
       "      <td>5G Broadband Router</td>\n",
       "      <td>Yes</td>\n",
       "      <td>64</td>\n",
       "    </tr>\n",
       "    <tr>\n",
       "      <th>4</th>\n",
       "      <td>Broadband MiFi</td>\n",
       "      <td>No</td>\n",
       "      <td>167</td>\n",
       "    </tr>\n",
       "    <tr>\n",
       "      <th>5</th>\n",
       "      <td>Broadband MiFi</td>\n",
       "      <td>Yes</td>\n",
       "      <td>61</td>\n",
       "    </tr>\n",
       "    <tr>\n",
       "      <th>6</th>\n",
       "      <td>Mobile SIM Card</td>\n",
       "      <td>No</td>\n",
       "      <td>207</td>\n",
       "    </tr>\n",
       "    <tr>\n",
       "      <th>7</th>\n",
       "      <td>Mobile SIM Card</td>\n",
       "      <td>Yes</td>\n",
       "      <td>94</td>\n",
       "    </tr>\n",
       "  </tbody>\n",
       "</table>\n",
       "</div>"
      ],
      "text/plain": [
       "            MTN Device Customer Churn Status  count\n",
       "0            4G Router                    No    151\n",
       "1            4G Router                   Yes     65\n",
       "2  5G Broadband Router                    No    165\n",
       "3  5G Broadband Router                   Yes     64\n",
       "4       Broadband MiFi                    No    167\n",
       "5       Broadband MiFi                   Yes     61\n",
       "6      Mobile SIM Card                    No    207\n",
       "7      Mobile SIM Card                   Yes     94"
      ]
     },
     "execution_count": 62,
     "metadata": {},
     "output_type": "execute_result"
    }
   ],
   "source": [
    "dev_dist=data.groupby('MTN Device')['Customer Churn Status'].value_counts().reset_index()\n",
    "dev_dist"
   ]
  },
  {
   "cell_type": "code",
   "execution_count": 63,
   "id": "7b561ac6",
   "metadata": {},
   "outputs": [
    {
     "name": "stderr",
     "output_type": "stream",
     "text": [
      "c:\\Users\\USER\\anaconda3.0\\Lib\\site-packages\\IPython\\core\\pylabtools.py:170: UserWarning: Creating legend with loc=\"best\" can be slow with large amounts of data.\n",
      "  fig.canvas.print_figure(bytes_io, **kw)\n"
     ]
    },
    {
     "data": {
      "image/png": "[encoded data removed]",
      "text/plain": [
       "<Figure size 800x600 with 1 Axes>"
      ]
     },
     "metadata": {},
     "output_type": "display_data"
    }
   ],
   "source": [
    "plt.figure(figsize=(8,6))\n",
    "sns.barplot(data=dev_dist, x='MTN Device', y='count', hue='Customer Churn Status', palette='Blues_d')\n",
    "plt.title('Device Type Distribution', fontweight='bold')\n",
    "plt.gca().set_facecolor(color2)\n",
    "plt.gcf().set_facecolor(color2)\n",
    "plt.show()"
   ]
  },
  {
   "cell_type": "markdown",
   "id": "2ec73047",
   "metadata": {},
   "source": [
    "**Customer Satisfaction**"
   ]
  },
  {
   "cell_type": "markdown",
   "id": "43b20258",
   "metadata": {},
   "source": [
    "*Average Satisfaction Score*"
   ]
  },
  {
   "cell_type": "code",
   "execution_count": 64,
   "id": "63d7ed05",
   "metadata": {},
   "outputs": [
    {
     "data": {
      "text/plain": [
       "2.9476386036960984"
      ]
     },
     "execution_count": 64,
     "metadata": {},
     "output_type": "execute_result"
    }
   ],
   "source": [
    "data['Satisfaction Rate'].mean()"
   ]
  },
  {
   "cell_type": "code",
   "execution_count": 65,
   "id": "7cd3ff79",
   "metadata": {},
   "outputs": [
    {
     "data": {
      "text/html": [
       "<div>\n",
       "<style scoped>\n",
       "    .dataframe tbody tr th:only-of-type {\n",
       "        vertical-align: middle;\n",
       "    }\n",
       "\n",
       "    .dataframe tbody tr th {\n",
       "        vertical-align: top;\n",
       "    }\n",
       "\n",
       "    .dataframe thead th {\n",
       "        text-align: right;\n",
       "    }\n",
       "</style>\n",
       "<table border=\"1\" class=\"dataframe\">\n",
       "  <thead>\n",
       "    <tr style=\"text-align: right;\">\n",
       "      <th></th>\n",
       "      <th>Customer ID</th>\n",
       "      <th>Full Name</th>\n",
       "      <th>Date of Purchase</th>\n",
       "      <th>Age</th>\n",
       "      <th>State</th>\n",
       "      <th>MTN Device</th>\n",
       "      <th>Gender</th>\n",
       "      <th>Satisfaction Rate</th>\n",
       "      <th>Customer Review</th>\n",
       "      <th>Customer Tenure in months</th>\n",
       "      <th>Subscription Plan</th>\n",
       "      <th>Unit Price</th>\n",
       "      <th>Number of Times Purchased</th>\n",
       "      <th>Total Revenue</th>\n",
       "      <th>Data Usage</th>\n",
       "      <th>Customer Churn Status</th>\n",
       "      <th>Reasons for Churn</th>\n",
       "      <th>Age_group</th>\n",
       "      <th>Tenures</th>\n",
       "      <th>Month</th>\n",
       "    </tr>\n",
       "  </thead>\n",
       "  <tbody>\n",
       "    <tr>\n",
       "      <th>0</th>\n",
       "      <td>CUST0001</td>\n",
       "      <td>Ngozi Berry</td>\n",
       "      <td>2025-01-25</td>\n",
       "      <td>27</td>\n",
       "      <td>Kwara</td>\n",
       "      <td>4G Router</td>\n",
       "      <td>Male</td>\n",
       "      <td>2</td>\n",
       "      <td>Fair</td>\n",
       "      <td>2</td>\n",
       "      <td>165GB Monthly Plan</td>\n",
       "      <td>35000</td>\n",
       "      <td>19</td>\n",
       "      <td>665000</td>\n",
       "      <td>44.48</td>\n",
       "      <td>Yes</td>\n",
       "      <td>Relocation</td>\n",
       "      <td>25-34</td>\n",
       "      <td>Short</td>\n",
       "      <td>January</td>\n",
       "    </tr>\n",
       "    <tr>\n",
       "      <th>1</th>\n",
       "      <td>CUST0002</td>\n",
       "      <td>Zainab Baker</td>\n",
       "      <td>2025-03-25</td>\n",
       "      <td>16</td>\n",
       "      <td>Abuja (FCT)</td>\n",
       "      <td>Mobile SIM Card</td>\n",
       "      <td>Female</td>\n",
       "      <td>2</td>\n",
       "      <td>Fair</td>\n",
       "      <td>22</td>\n",
       "      <td>12.5GB Monthly Plan</td>\n",
       "      <td>5500</td>\n",
       "      <td>12</td>\n",
       "      <td>66000</td>\n",
       "      <td>19.79</td>\n",
       "      <td>Yes</td>\n",
       "      <td>Better Offers from Competitors</td>\n",
       "      <td>18-24</td>\n",
       "      <td>Moderate</td>\n",
       "      <td>March</td>\n",
       "    </tr>\n",
       "    <tr>\n",
       "      <th>2</th>\n",
       "      <td>CUST0003</td>\n",
       "      <td>Saidu Evans</td>\n",
       "      <td>2025-03-25</td>\n",
       "      <td>21</td>\n",
       "      <td>Sokoto</td>\n",
       "      <td>5G Broadband Router</td>\n",
       "      <td>Male</td>\n",
       "      <td>1</td>\n",
       "      <td>Poor</td>\n",
       "      <td>60</td>\n",
       "      <td>150GB FUP Monthly Unlimited</td>\n",
       "      <td>20000</td>\n",
       "      <td>8</td>\n",
       "      <td>160000</td>\n",
       "      <td>9.64</td>\n",
       "      <td>No</td>\n",
       "      <td>NaN</td>\n",
       "      <td>18-24</td>\n",
       "      <td>Long</td>\n",
       "      <td>March</td>\n",
       "    </tr>\n",
       "    <tr>\n",
       "      <th>3</th>\n",
       "      <td>CUST0003</td>\n",
       "      <td>Saidu Evans</td>\n",
       "      <td>2025-03-25</td>\n",
       "      <td>21</td>\n",
       "      <td>Sokoto</td>\n",
       "      <td>Mobile SIM Card</td>\n",
       "      <td>Male</td>\n",
       "      <td>1</td>\n",
       "      <td>Poor</td>\n",
       "      <td>60</td>\n",
       "      <td>1GB+1.5mins Daily Plan</td>\n",
       "      <td>500</td>\n",
       "      <td>8</td>\n",
       "      <td>4000</td>\n",
       "      <td>197.05</td>\n",
       "      <td>No</td>\n",
       "      <td>NaN</td>\n",
       "      <td>18-24</td>\n",
       "      <td>Long</td>\n",
       "      <td>March</td>\n",
       "    </tr>\n",
       "  </tbody>\n",
       "</table>\n",
       "</div>"
      ],
      "text/plain": [
       "  Customer ID     Full Name Date of Purchase  Age        State  \\\n",
       "0    CUST0001   Ngozi Berry       2025-01-25   27        Kwara   \n",
       "1    CUST0002  Zainab Baker       2025-03-25   16  Abuja (FCT)   \n",
       "2    CUST0003   Saidu Evans       2025-03-25   21       Sokoto   \n",
       "3    CUST0003   Saidu Evans       2025-03-25   21       Sokoto   \n",
       "\n",
       "            MTN Device  Gender  Satisfaction Rate Customer Review  \\\n",
       "0            4G Router    Male                  2            Fair   \n",
       "1      Mobile SIM Card  Female                  2            Fair   \n",
       "2  5G Broadband Router    Male                  1            Poor   \n",
       "3      Mobile SIM Card    Male                  1            Poor   \n",
       "\n",
       "   Customer Tenure in months            Subscription Plan  Unit Price  \\\n",
       "0                          2           165GB Monthly Plan       35000   \n",
       "1                         22          12.5GB Monthly Plan        5500   \n",
       "2                         60  150GB FUP Monthly Unlimited       20000   \n",
       "3                         60       1GB+1.5mins Daily Plan         500   \n",
       "\n",
       "   Number of Times Purchased  Total Revenue  Data Usage Customer Churn Status  \\\n",
       "0                         19         665000       44.48                   Yes   \n",
       "1                         12          66000       19.79                   Yes   \n",
       "2                          8         160000        9.64                    No   \n",
       "3                          8           4000      197.05                    No   \n",
       "\n",
       "                Reasons for Churn Age_group   Tenures    Month  \n",
       "0                      Relocation     25-34     Short  January  \n",
       "1  Better Offers from Competitors     18-24  Moderate    March  \n",
       "2                             NaN     18-24      Long    March  \n",
       "3                             NaN     18-24      Long    March  "
      ]
     },
     "execution_count": 65,
     "metadata": {},
     "output_type": "execute_result"
    }
   ],
   "source": [
    "data.head(4)"
   ]
  },
  {
   "cell_type": "markdown",
   "id": "af9ede4f",
   "metadata": {},
   "source": [
    "*Review Sentiment Breakdown*"
   ]
  },
  {
   "cell_type": "code",
   "execution_count": 66,
   "id": "02d1c095",
   "metadata": {},
   "outputs": [
    {
     "data": {
      "text/plain": [
       "Customer Review\n",
       "Very Good    21.8%\n",
       "Fair         20.4%\n",
       "Good         20.4%\n",
       "Poor         20.3%\n",
       "Excellent    17.0%\n",
       "Name: proportion, dtype: object"
      ]
     },
     "execution_count": 66,
     "metadata": {},
     "output_type": "execute_result"
    }
   ],
   "source": [
    "data['Customer Review'].value_counts(normalize='True').mul(100).round(1).astype(str) + '%'"
   ]
  },
  {
   "cell_type": "markdown",
   "id": "0a5f47f6",
   "metadata": {},
   "source": [
    "**Demographic Insights**"
   ]
  },
  {
   "cell_type": "markdown",
   "id": "f4a9c21f",
   "metadata": {},
   "source": [
    "*Churn Rate by Age Group*"
   ]
  },
  {
   "cell_type": "code",
   "execution_count": 163,
   "id": "8c128d3a",
   "metadata": {},
   "outputs": [
    {
     "data": {
      "text/plain": [
       "Reasons for Churn\n",
       "High Call Tarriffs               19.00\n",
       "Poor Customer Service            17.30\n",
       "Poor Network                     15.50\n",
       "Better Offers from Competitors   15.50\n",
       "Costly Data Plans                13.70\n",
       "Relocation                        9.50\n",
       "Fast Data Consumption             9.50\n",
       "Name: proportion, dtype: float64"
      ]
     },
     "execution_count": 163,
     "metadata": {},
     "output_type": "execute_result"
    }
   ],
   "source": [
    "age_churn=sub_churn[sub_churn['Age_group'].isin(['55+','25-34']) ]\n",
    "age_churn['Reasons for Churn'].value_counts(normalize=True).mul(100).round(1)"
   ]
  },
  {
   "cell_type": "code",
   "execution_count": 67,
   "id": "c755d4a1",
   "metadata": {},
   "outputs": [
    {
     "data": {
      "text/plain": [
       "Age_group\n",
       "55+      104\n",
       "25-34     64\n",
       "35-44     49\n",
       "45-54     34\n",
       "18-24     33\n",
       "Name: count, dtype: int64"
      ]
     },
     "execution_count": 67,
     "metadata": {},
     "output_type": "execute_result"
    }
   ],
   "source": [
    "sub_churn['Age_group'].value_counts()"
   ]
  },
  {
   "cell_type": "code",
   "execution_count": 148,
   "id": "98386f6f",
   "metadata": {},
   "outputs": [
    {
     "name": "stderr",
     "output_type": "stream",
     "text": [
      "C:\\Users\\USER\\AppData\\Local\\Temp\\ipykernel_4400\\4186257096.py:2: FutureWarning: \n",
      "\n",
      "Passing `palette` without assigning `hue` is deprecated and will be removed in v0.14.0. Assign the `x` variable to `hue` and set `legend=False` for the same effect.\n",
      "\n",
      "  sns.countplot(data=sub_churn, x='Age_group', palette='Blues_d')\n"
     ]
    },
    {
     "data": {
      "image/png": "[encoded data removed]",
      "text/plain": [
       "<Figure size 500x500 with 1 Axes>"
      ]
     },
     "metadata": {},
     "output_type": "display_data"
    }
   ],
   "source": [
    "plt.figure(figsize=(5,5))\n",
    "sns.countplot(data=sub_churn, x='Age_group', palette='Blues_d')\n",
    "plt.title(\"Churned Customer's Age Distribution\", fontweight='bold')\n",
    "plt.ylabel('Count', fontweight='bold')\n",
    "plt.xlabel('Age_group',fontweight='bold')\n",
    "plt.gca().set_facecolor(color2)\n",
    "plt.gcf().set_facecolor(color2)\n",
    "plt.show()"
   ]
  },
  {
   "cell_type": "markdown",
   "id": "52d16b0e",
   "metadata": {},
   "source": [
    "*Gender Distribution*"
   ]
  },
  {
   "cell_type": "code",
   "execution_count": 146,
   "id": "6b0afc44",
   "metadata": {},
   "outputs": [
    {
     "data": {
      "text/html": [
       "<div>\n",
       "<style scoped>\n",
       "    .dataframe tbody tr th:only-of-type {\n",
       "        vertical-align: middle;\n",
       "    }\n",
       "\n",
       "    .dataframe tbody tr th {\n",
       "        vertical-align: top;\n",
       "    }\n",
       "\n",
       "    .dataframe thead th {\n",
       "        text-align: right;\n",
       "    }\n",
       "</style>\n",
       "<table border=\"1\" class=\"dataframe\">\n",
       "  <thead>\n",
       "    <tr style=\"text-align: right;\">\n",
       "      <th></th>\n",
       "      <th>Gender</th>\n",
       "      <th>Customer Churn Status</th>\n",
       "      <th>count</th>\n",
       "    </tr>\n",
       "  </thead>\n",
       "  <tbody>\n",
       "    <tr>\n",
       "      <th>0</th>\n",
       "      <td>Female</td>\n",
       "      <td>No</td>\n",
       "      <td>345</td>\n",
       "    </tr>\n",
       "    <tr>\n",
       "      <th>1</th>\n",
       "      <td>Female</td>\n",
       "      <td>Yes</td>\n",
       "      <td>150</td>\n",
       "    </tr>\n",
       "    <tr>\n",
       "      <th>2</th>\n",
       "      <td>Male</td>\n",
       "      <td>No</td>\n",
       "      <td>345</td>\n",
       "    </tr>\n",
       "    <tr>\n",
       "      <th>3</th>\n",
       "      <td>Male</td>\n",
       "      <td>Yes</td>\n",
       "      <td>134</td>\n",
       "    </tr>\n",
       "  </tbody>\n",
       "</table>\n",
       "</div>"
      ],
      "text/plain": [
       "   Gender Customer Churn Status  count\n",
       "0  Female                    No    345\n",
       "1  Female                   Yes    150\n",
       "2    Male                    No    345\n",
       "3    Male                   Yes    134"
      ]
     },
     "execution_count": 146,
     "metadata": {},
     "output_type": "execute_result"
    }
   ],
   "source": [
    "gender_churn=data.groupby('Gender')['Customer Churn Status'].value_counts().reset_index(name='count')\n",
    "gender_churn"
   ]
  },
  {
   "cell_type": "code",
   "execution_count": 172,
   "id": "7557adc1",
   "metadata": {},
   "outputs": [
    {
     "data": {
      "text/plain": [
       "Reasons for Churn\n",
       "High Call Tarriffs               19.00\n",
       "Better Offers from Competitors   18.30\n",
       "Poor Network                     15.80\n",
       "Costly Data Plans                14.10\n",
       "Poor Customer Service            12.00\n",
       "Fast Data Consumption            11.30\n",
       "Relocation                        9.50\n",
       "Name: proportion, dtype: float64"
      ]
     },
     "execution_count": 172,
     "metadata": {},
     "output_type": "execute_result"
    }
   ],
   "source": [
    "g_churn=sub_churn[sub_churn['Gender'].isin(['Female','Male']) ]\n",
    "g_churn['Reasons for Churn'].value_counts(normalize=True).mul(100).round(1)"
   ]
  },
  {
   "cell_type": "code",
   "execution_count": 144,
   "id": "8cf5e4b8",
   "metadata": {},
   "outputs": [
    {
     "data": {
      "image/png": "[encoded data removed]",
      "text/plain": [
       "<Figure size 800x80 with 1 Axes>"
      ]
     },
     "metadata": {},
     "output_type": "display_data"
    }
   ],
   "source": [
    "plt.figure(figsize=(8,0.8))\n",
    "sns.barplot(data=gender_churn, y='Gender', x='count', hue='Customer Churn Status', width=0.5)\n",
    "plt.title(\"Churn Rate by Gender\", fontweight='bold')\n",
    "plt.xlabel('Count', fontweight='bold')\n",
    "plt.ylabel('Gender',fontweight='bold')\n",
    "plt.legend(loc='center left', bbox_to_anchor=(1,0.5))\n",
    "plt.gca().set_facecolor(color2)\n",
    "plt.gcf().set_facecolor(color2)\n",
    "plt.show()"
   ]
  },
  {
   "cell_type": "markdown",
   "id": "c6967c0c",
   "metadata": {},
   "source": [
    "*Churn Rate by State*"
   ]
  },
  {
   "cell_type": "code",
   "execution_count": 130,
   "id": "4113af84",
   "metadata": {},
   "outputs": [
    {
     "data": {
      "text/html": [
       "<div>\n",
       "<style scoped>\n",
       "    .dataframe tbody tr th:only-of-type {\n",
       "        vertical-align: middle;\n",
       "    }\n",
       "\n",
       "    .dataframe tbody tr th {\n",
       "        vertical-align: top;\n",
       "    }\n",
       "\n",
       "    .dataframe thead th {\n",
       "        text-align: right;\n",
       "    }\n",
       "</style>\n",
       "<table border=\"1\" class=\"dataframe\">\n",
       "  <thead>\n",
       "    <tr style=\"text-align: right;\">\n",
       "      <th></th>\n",
       "      <th>State</th>\n",
       "      <th>Customer Churn Status</th>\n",
       "      <th>count</th>\n",
       "    </tr>\n",
       "  </thead>\n",
       "  <tbody>\n",
       "    <tr>\n",
       "      <th>0</th>\n",
       "      <td>Abia</td>\n",
       "      <td>No</td>\n",
       "      <td>27</td>\n",
       "    </tr>\n",
       "    <tr>\n",
       "      <th>1</th>\n",
       "      <td>Abia</td>\n",
       "      <td>Yes</td>\n",
       "      <td>8</td>\n",
       "    </tr>\n",
       "    <tr>\n",
       "      <th>2</th>\n",
       "      <td>Abuja (FCT)</td>\n",
       "      <td>No</td>\n",
       "      <td>27</td>\n",
       "    </tr>\n",
       "    <tr>\n",
       "      <th>3</th>\n",
       "      <td>Abuja (FCT)</td>\n",
       "      <td>Yes</td>\n",
       "      <td>15</td>\n",
       "    </tr>\n",
       "    <tr>\n",
       "      <th>4</th>\n",
       "      <td>Adamawa</td>\n",
       "      <td>Yes</td>\n",
       "      <td>11</td>\n",
       "    </tr>\n",
       "    <tr>\n",
       "      <th>...</th>\n",
       "      <td>...</td>\n",
       "      <td>...</td>\n",
       "      <td>...</td>\n",
       "    </tr>\n",
       "    <tr>\n",
       "      <th>65</th>\n",
       "      <td>Taraba</td>\n",
       "      <td>Yes</td>\n",
       "      <td>5</td>\n",
       "    </tr>\n",
       "    <tr>\n",
       "      <th>66</th>\n",
       "      <td>Yobe</td>\n",
       "      <td>No</td>\n",
       "      <td>21</td>\n",
       "    </tr>\n",
       "    <tr>\n",
       "      <th>67</th>\n",
       "      <td>Yobe</td>\n",
       "      <td>Yes</td>\n",
       "      <td>13</td>\n",
       "    </tr>\n",
       "    <tr>\n",
       "      <th>68</th>\n",
       "      <td>Zamfara</td>\n",
       "      <td>No</td>\n",
       "      <td>22</td>\n",
       "    </tr>\n",
       "    <tr>\n",
       "      <th>69</th>\n",
       "      <td>Zamfara</td>\n",
       "      <td>Yes</td>\n",
       "      <td>6</td>\n",
       "    </tr>\n",
       "  </tbody>\n",
       "</table>\n",
       "<p>70 rows × 3 columns</p>\n",
       "</div>"
      ],
      "text/plain": [
       "          State Customer Churn Status  count\n",
       "0          Abia                    No     27\n",
       "1          Abia                   Yes      8\n",
       "2   Abuja (FCT)                    No     27\n",
       "3   Abuja (FCT)                   Yes     15\n",
       "4       Adamawa                   Yes     11\n",
       "..          ...                   ...    ...\n",
       "65       Taraba                   Yes      5\n",
       "66         Yobe                    No     21\n",
       "67         Yobe                   Yes     13\n",
       "68      Zamfara                    No     22\n",
       "69      Zamfara                   Yes      6\n",
       "\n",
       "[70 rows x 3 columns]"
      ]
     },
     "execution_count": 130,
     "metadata": {},
     "output_type": "execute_result"
    }
   ],
   "source": [
    "state_churn=data.groupby('State')['Customer Churn Status'].value_counts().reset_index()\n",
    "state_churn"
   ]
  },
  {
   "cell_type": "code",
   "execution_count": 131,
   "id": "bf7fd6a2",
   "metadata": {},
   "outputs": [
    {
     "data": {
      "image/png": "[encoded data removed]",
      "text/plain": [
       "<Figure size 800x600 with 1 Axes>"
      ]
     },
     "metadata": {},
     "output_type": "display_data"
    }
   ],
   "source": [
    "plt.figure(figsize=(8,6))\n",
    "sns.barplot(data=state_churn.tail(36), y='State', x='count', hue='Customer Churn Status')\n",
    "plt.title(\"Churn Rate by State\")\n",
    "plt.gca().set_facecolor(color2)\n",
    "plt.gcf().set_facecolor(color2)\n",
    "plt.xticks(rotation=90)\n",
    "plt.show()"
   ]
  },
  {
   "cell_type": "code",
   "execution_count": null,
   "id": "1c869519",
   "metadata": {},
   "outputs": [
    {
     "data": {
      "text/plain": [
       "Index(['Customer ID', 'Full Name', 'Date of Purchase', 'Age', 'State',\n",
       "       'MTN Device', 'Gender', 'Satisfaction Rate', 'Customer Review',\n",
       "       'Customer Tenure in months', 'Subscription Plan', 'Unit Price',\n",
       "       'Number of Times Purchased', 'Total Revenue', 'Data Usage',\n",
       "       'Customer Churn Status', 'Reasons for Churn', 'Age_group', 'Tenures',\n",
       "       'Month'],\n",
       "      dtype='object')"
      ]
     },
     "execution_count": 72,
     "metadata": {},
     "output_type": "execute_result"
    }
   ],
   "source": [
    "data.columns"
   ]
  }
 ],
 "metadata": {
  "kernelspec": {
   "display_name": "base",
   "language": "python",
   "name": "python3"
  },
  "language_info": {
   "codemirror_mode": {
    "name": "ipython",
    "version": 3
   },
   "file_extension": ".py",
   "mimetype": "text/x-python",
   "name": "python",
   "nbconvert_exporter": "python",
   "pygments_lexer": "ipython3",
   "version": "3.12.7"
  }
 },
 "nbformat": 4,
 "nbformat_minor": 5
}
